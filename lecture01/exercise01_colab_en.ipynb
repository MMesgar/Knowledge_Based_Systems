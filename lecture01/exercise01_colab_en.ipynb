{
 "cells": [
  {
   "cell_type": "markdown",
   "metadata": {},
   "source": [
    "# Exercise: Google Colab \n",
    "\n",
    "Version: SoSe 2022\n",
    "\n",
    "Estimated time needed: 10 minutes\n",
    "\n",
    "Author: Dr. Mohsen Mesgar\n",
    "\n",
    "---"
   ]
  },
  {
   "cell_type": "markdown",
   "metadata": {},
   "source": [
    "# Objectives\n",
    "\n",
    "After completing this lab you will be able to:\n",
    "\n",
    " - run a jupyter notebook on Colab"
   ]
  },
  {
   "cell_type": "markdown",
   "metadata": {},
   "source": [
    "## Introduction\n",
    "\n",
    "Colab is a cloud environment from Google. You can easily use it to run python codes with no software installation. To use this cloud service, you just need a computer connected to internet. Since Google provides this nice service, it expects to create a Google account. Nothing else is required. "
   ]
  },
  {
   "cell_type": "markdown",
   "metadata": {},
   "source": [
    "## Note 1: \n",
    "Of course you can run your codes on your local machines. However, it will be much more efficient if you use colab. \n",
    "\n",
    "## Note 2: \n",
    "For this course, we need only the **free version** of Colab."
   ]
  },
  {
   "cell_type": "markdown",
   "metadata": {},
   "source": [
    "# Let's Start\n",
    "\n",
    "\n",
    "- Open the following link in your web broweser on your computer.\n",
    "\n",
    "https://colab.research.google.com/ \n",
    "\n",
    "\n",
    "- Sign in to the service using your Google account. The sign in button is on the top right corner. \n",
    "\n",
    "\n",
    "- On the top left corner of the page, click on \"File\". Then \"new  notebook\".\n"
   ]
  },
  {
   "cell_type": "markdown",
   "metadata": {},
   "source": [
    "**Output**\n",
    "\n",
    "The environment you are seeing in your broweser is called Jupyter notebook. It is an interactive environment to write a program in python and a few more programming languages. The main benefit of Jupyter notebooks is that you can combine text with different style and your python codes in one file. We leave more information about Jupyter notebooks for another exercise. "
   ]
  },
  {
   "cell_type": "markdown",
   "metadata": {},
   "source": [
    "# Try Out Colab: \"Hello World\""
   ]
  },
  {
   "cell_type": "markdown",
   "metadata": {},
   "source": [
    "Try out the colab to see how it works. \n",
    "\n",
    "- Copy the following Python code\n",
    "\n",
    "```Python\n",
    "print(\"hello World\")\n",
    "```\n",
    "\n",
    "- Open your jupyter notebook in colab. \n",
    "\n",
    "- Paste it in the cell. \n",
    "\n",
    "- Run the cell\n",
    "\n",
    "    - Use \"Comand + Enter\" (on Mac) or \"CTRL + Enter\" (on other machines) on your keyboard\n",
    "    \n",
    "    - Use the small triangle next to the cell."
   ]
  },
  {
   "cell_type": "markdown",
   "metadata": {},
   "source": [
    "**Output**\n",
    "\n",
    "![hello_world](./images/hello_world.png)\n"
   ]
  },
  {
   "cell_type": "markdown",
   "metadata": {},
   "source": [
    "## Save a Notebook"
   ]
  },
  {
   "cell_type": "markdown",
   "metadata": {},
   "source": [
    "To save your jupyter notebook, it's better to give a representative name to your notebook. To do so, you should simply click on the name of the notebook in Colab (on the top left corner of the page and then rename the file).\n",
    "\n",
    "To save the notebook, you can go to ``File > save``. This will save your notebook in the current session. You can instead save your notebook in your Google drive by ``File > Save a copy in Drive``. You can also save your notebook in your Github. by ``File > Save a copy in Github``. \n",
    "\n",
    "To download the notebook in your local machine, use ``File > Download > Download .ipynb``. \n"
   ]
  },
  {
   "cell_type": "markdown",
   "metadata": {},
   "source": [
    "Now, rename your notebook to ``hello_world.ipynb`` and then download it into your machine. "
   ]
  },
  {
   "cell_type": "markdown",
   "metadata": {},
   "source": [
    "## Upload a Notebook to Colab"
   ]
  },
  {
   "cell_type": "markdown",
   "metadata": {},
   "source": [
    "Let's assume that you have a Jupyter notebook in your local machine. For example, for one exercise or homework, we give you a notebook and you save it in your local machine. \n",
    "To open and work on this notebook, you CAN upload the file to Colab. Then you are ready to go. \n",
    "\n",
    "How to upload? \n",
    "\n",
    "- Open Colab (https://colab.research.google.com/)\n"
   ]
  },
  {
   "cell_type": "markdown",
   "metadata": {},
   "source": [
    "![upload_ipynb](./images/upload_ipynb.png)"
   ]
  },
  {
   "cell_type": "markdown",
   "metadata": {},
   "source": [
    " - Choose a notebook from your local machine. It should have the ``.ipynb`` extension. For example, choose the file ``hello_world.ipynb``\n",
    " \n",
    " - You should see the content of the file."
   ]
  },
  {
   "cell_type": "markdown",
   "metadata": {},
   "source": [
    "Now that you opened the file, you can run it. For example, can you write a code that prints your name? \n",
    "\n",
    "```Python\n",
    "print(\" ??? \")\n",
    "\n",
    "```\n",
    "\n",
    "Replace ??? with your name."
   ]
  },
  {
   "cell_type": "markdown",
   "metadata": {},
   "source": [
    "\n",
    "## Thank you for completing this lab!\n",
    "\n",
    "______\n",
    "\n",
    "## Other Contributors\n",
    "\n",
    "N/A"
   ]
  },
  {
   "cell_type": "code",
   "execution_count": null,
   "metadata": {},
   "outputs": [],
   "source": []
  }
 ],
 "metadata": {
  "kernelspec": {
   "display_name": "Python 3",
   "language": "python",
   "name": "python3"
  },
  "language_info": {
   "codemirror_mode": {
    "name": "ipython",
    "version": 3
   },
   "file_extension": ".py",
   "mimetype": "text/x-python",
   "name": "python",
   "nbconvert_exporter": "python",
   "pygments_lexer": "ipython3",
   "version": "3.7.1"
  },
  "varInspector": {
   "cols": {
    "lenName": 16,
    "lenType": 16,
    "lenVar": 40
   },
   "kernels_config": {
    "python": {
     "delete_cmd_postfix": "",
     "delete_cmd_prefix": "del ",
     "library": "var_list.py",
     "varRefreshCmd": "print(var_dic_list())"
    },
    "r": {
     "delete_cmd_postfix": ") ",
     "delete_cmd_prefix": "rm(",
     "library": "var_list.r",
     "varRefreshCmd": "cat(var_dic_list()) "
    }
   },
   "types_to_exclude": [
    "module",
    "function",
    "builtin_function_or_method",
    "instance",
    "_Feature"
   ],
   "window_display": false
  }
 },
 "nbformat": 4,
 "nbformat_minor": 2
}
