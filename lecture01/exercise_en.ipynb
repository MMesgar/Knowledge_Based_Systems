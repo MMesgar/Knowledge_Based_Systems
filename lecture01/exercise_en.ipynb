{
 "cells": [
  {
   "cell_type": "markdown",
   "metadata": {
    "id": "SQIrIUoJWqiO"
   },
   "source": [
    "# Exercise: Introduction to Python \n",
    "\n",
    "Version: SoSe 2022\n",
    "\n",
    "Estimated time needed: 90 minutes\n",
    "\n",
    "Author: Mohamed Abdelmagied and Dr. Mohsen Mesgar"
   ]
  },
  {
   "cell_type": "markdown",
   "metadata": {
    "id": "0sZTXXoeWqiT"
   },
   "source": [
    "# Objectives\n",
    "\n",
    "After completing this exercise you will be able to:\n",
    "\n",
    " - conduct basic programming operations in Python\n",
    " - use lists and learn some of its functions \n",
    " - learn about control structures in Python\n",
    " - import modules in Python\n",
    " - define and call functions"
   ]
  },
  {
   "cell_type": "markdown",
   "metadata": {
    "id": "u_xS-ecRKKeH"
   },
   "source": [
    "**Reminder: Please upload this exercise on [Google Colab](https://colab.research.google.com/) so you would be able to work on the tasks**"
   ]
  },
  {
   "cell_type": "markdown",
   "metadata": {
    "id": "tUXrWAz6dEUh"
   },
   "source": [
    "# Task1\n",
    "\n",
    "**True** or **False**:\n",
    "\n",
    "- One of the early challenges for AI was the researchers' lack of understanding of 'computational complexity'."
   ]
  },
  {
   "cell_type": "markdown",
   "metadata": {
    "id": "RnDvZiGLgorM"
   },
   "source": [
    "<details><summary>Click here for the solution</summary>\n",
    "\n",
    "## Solution:\n",
    "\n",
    "True- Early AI systems like Microworlds tried out different combinations of steps until a solution was found, it was believed by the researchers that scaling up to larger problems was a matter of faster hardware, however, due to the intractability of a lot of AI problems this was not the case.\n",
    "\n",
    "</details>\n"
   ]
  },
  {
   "cell_type": "markdown",
   "metadata": {
    "id": "gFWOeRMEh5KB"
   },
   "source": [
    "# Task 2\n",
    "\n",
    "**Fill the blank from the given choices:**\n",
    "\n",
    "..... are general purpose search mechanisms trying to strings together elementary reasoning steps to find complete solutions\n",
    "\n",
    " - Knowledge-based systems\n",
    " - weak methods\n",
    " - Expert systems"
   ]
  },
  {
   "cell_type": "markdown",
   "metadata": {
    "id": "gpPAAsucjNJ4"
   },
   "source": [
    "<details><summary>Click here for the solution</summary>\n",
    "\n",
    "## Solution:\n",
    "\n",
    "- Correct: weak methods- Although they are general purpose mechanisms, they fail to scale up to larger problems. \n",
    "- Wrong: Knowledge-based systems and expert systems are not general purpose as they use large domain specific knowledge to solve specific hard problems\n",
    "\n",
    "</details>"
   ]
  },
  {
   "cell_type": "markdown",
   "metadata": {
    "id": "lA44RTVTkaJ9"
   },
   "source": [
    "# Task 3\n",
    "**Mention 3 fields in which AI is currently used (Hint: Read Russel and Norvig 1.4)**"
   ]
  },
  {
   "cell_type": "markdown",
   "metadata": {
    "id": "0m4cFvdGmdij"
   },
   "source": [
    "<details><summary>Click here for the solution</summary>\n",
    "\n",
    "## Solution\n",
    "\n",
    "- Autonomous planning and scheduling\n",
    "- Game playing\n",
    "- Autonomous control\n",
    "- Diagnosis\n",
    "- Logistics planning\n",
    "- Robotics\n",
    "- Language understanding and problem solving\n",
    "\n",
    "</details>"
   ]
  },
  {
   "cell_type": "markdown",
   "metadata": {
    "id": "_f8vD71BWqiV"
   },
   "source": [
    "# Task 4 \n",
    "\n",
    "## Simple Sequences"
   ]
  },
  {
   "cell_type": "markdown",
   "metadata": {
    "id": "lUZMjrcWWqiW"
   },
   "source": [
    "A simple sequence of instructions is the most basic program you can write.\n",
    "The simplest sequence is one containing a single command.\n",
    "We will try out some of these now."
   ]
  },
  {
   "cell_type": "code",
   "execution_count": null,
   "metadata": {
    "id": "IfUrajoxWqiW",
    "outputId": "fc6d8c00-e098-4e4e-d69b-ef0917fb6ab2"
   },
   "outputs": [
    {
     "name": "stdout",
     "output_type": "stream",
     "text": [
      "Hello there!\n"
     ]
    }
   ],
   "source": [
    "print('Hello there!')"
   ]
  },
  {
   "cell_type": "markdown",
   "metadata": {
    "id": "JFsZKFPVWqiX"
   },
   "source": [
    "## Arithmetic Operators"
   ]
  },
  {
   "cell_type": "markdown",
   "metadata": {
    "id": "2CugezNqWqiY"
   },
   "source": [
    "It's not just strings that can be printed:"
   ]
  },
  {
   "cell_type": "code",
   "execution_count": null,
   "metadata": {
    "id": "v-KB7uU3WqiY"
   },
   "outputs": [],
   "source": [
    "print(6 + 5)"
   ]
  },
  {
   "cell_type": "markdown",
   "metadata": {
    "id": "IT1FVXuXWqiZ"
   },
   "source": [
    "Use some other arithmetic operators:\n",
    "* sum (+)\n",
    "* subtract (-)\n",
    "* multiply (*)\n",
    "* divide (/) <br>\n",
    "\n",
    "\n",
    "Combine multiple expressions like:"
   ]
  },
  {
   "cell_type": "code",
   "execution_count": null,
   "metadata": {
    "id": "T2ufEcVCWqia"
   },
   "outputs": [],
   "source": [
    "print(((8 * 4) + (7 - 3)) / (2 + 4))"
   ]
  },
  {
   "cell_type": "markdown",
   "metadata": {
    "id": "BgPXfAR7Wqib"
   },
   "source": [
    "Experiment and you will soon get the idea (note: \",\" separates elements in a print statement):"
   ]
  },
  {
   "cell_type": "code",
   "execution_count": null,
   "metadata": {
    "id": "KGY0tvtHWqib"
   },
   "outputs": [],
   "source": [
    "print('The total is: ', 23 + 45)"
   ]
  },
  {
   "cell_type": "markdown",
   "metadata": {
    "id": "gOOhymeQWqic"
   },
   "source": [
    "Take a few minutes to try it out (try to sum up two strings, multiply some strings with numbers)."
   ]
  },
  {
   "cell_type": "code",
   "execution_count": null,
   "metadata": {
    "id": "oB2kugCdWqic"
   },
   "outputs": [],
   "source": [
    "print('sum of 34 and 56 is ', 34 + 56)\n",
    "print('99 - 100 = ', 99 - 100)\n",
    "print(5 * 'abc')\n",
    "print('Uni' + 'DuE')\n",
    "print('Uni ' + 'DuE')\n",
    "print(3 * ('Uni ' + 'DuE '))"
   ]
  },
  {
   "cell_type": "markdown",
   "metadata": {
    "id": "C73G1w6yWqic"
   },
   "source": [
    "## Variables\n",
    "In programming terms we can create instances of data types and assign them to variables.\n",
    "A variable is a reference to a specific area somewhere in the computers memory. These areas hold the data.\n",
    "e.g."
   ]
  },
  {
   "cell_type": "code",
   "execution_count": null,
   "metadata": {
    "id": "pPejb6JSWqid"
   },
   "outputs": [],
   "source": [
    "town = 'Duisburg'\n",
    "print('I study in', town)\n",
    "print(\"I study in \" + town)"
   ]
  },
  {
   "cell_type": "markdown",
   "metadata": {
    "id": "JsHwYg9fWqid"
   },
   "source": [
    "In Python a variable takes the type of the data assigned to it. It will keep that type and you will be warned if you try to mix data in strange ways - like trying to add a string to a number. We can change the type of data that a variable points to by reassigning the variable."
   ]
  },
  {
   "cell_type": "code",
   "execution_count": null,
   "metadata": {
    "id": "ntOwSLPqWqie"
   },
   "outputs": [],
   "source": [
    "q = 7\n",
    "# q is now a number\n",
    "print(q)\n",
    "print(q + q)\n",
    "\n",
    "q = \"Seven\"\n",
    "# reassign q to a string\n",
    "print(q)\n",
    "print(q + q)"
   ]
  },
  {
   "cell_type": "markdown",
   "metadata": {
    "id": "dziC0F7gWqie"
   },
   "source": [
    "## Comparison Operators\n",
    "Assume variable a holds 10 and variable b holds 20 then:"
   ]
  },
  {
   "cell_type": "markdown",
   "metadata": {
    "id": "HA4iYC7DWqif"
   },
   "source": [
    "| Operator | Description | Example         \n",
    "|:-|:------------- | :-----------------\n",
    "|==|Checks if the value of two operands are equal or not, if yes then condition becomes true.|(a == b) is not true.\n",
    "|!=|Checks if the value of two operands are equal or not, if values are not equal then condition becomes true.|(a != b) is true.\n",
    "|<>|Checks if the value of two operands are equal or not, if values are not equal then condition becomes true.|(a <> b) is true. This is similar to != operator.\n",
    "|/>|Checks if the value of left operand is greater than the value of right operand, if yes then condition becomes true.|(a > b) is not true.\n",
    "|<|Checks if the value of left operand is less than the value of right operand, if yes then condition becomes true.|(a < b) is true.\n",
    "|/>=|Checks if the value of two operands are equal or not, if values are not equal then condition becomes true.|(a >= b) is not true.\n",
    "|<=|Checks if the value of left operand is less than or equal to the value of right operand, if yes then condition becomes true.|(a <= b) is true."
   ]
  },
  {
   "cell_type": "markdown",
   "metadata": {
    "id": "ZB5BheA-Wqif"
   },
   "source": [
    "Take a few minutes to try it out (e.g. ```me = >>>your name<<<```). Use already learned operators."
   ]
  },
  {
   "cell_type": "code",
   "execution_count": null,
   "metadata": {
    "id": "YTmekW3FWqif"
   },
   "outputs": [],
   "source": [
    "me = 'Otto'\n",
    "last_name = 'Normalverbaucher'\n",
    "print (me + \" \" + last_name)"
   ]
  },
  {
   "cell_type": "code",
   "execution_count": null,
   "metadata": {
    "id": "6SojRGH6Wqig"
   },
   "outputs": [],
   "source": [
    "me = 20\n",
    "print ('I am', me)"
   ]
  },
  {
   "cell_type": "code",
   "execution_count": null,
   "metadata": {
    "id": "XOtRT4aLWqig"
   },
   "outputs": [],
   "source": [
    "word1 = 'one'\n",
    "word2 = 'two'\n",
    "print (word1 != word2)"
   ]
  },
  {
   "cell_type": "code",
   "execution_count": null,
   "metadata": {
    "id": "qitjGD_zWqih"
   },
   "outputs": [],
   "source": [
    "x = 47\n",
    "y = 53\n",
    "print (x >= y)"
   ]
  },
  {
   "cell_type": "markdown",
   "metadata": {
    "id": "5VYyhpL4Wqih"
   },
   "source": [
    "## Slice Operator\n",
    "Subsets of strings can be taken using the slice operator (```[x]``` and ```[x:y]``` ) with indexes starting at 0 in the beginning of the string and working their way from -1 at the end. For example:\n",
    "</div>"
   ]
  },
  {
   "cell_type": "code",
   "execution_count": null,
   "metadata": {
    "id": "WsS-fJLaWqii"
   },
   "outputs": [],
   "source": [
    "str = 'Hello World!'\n",
    "print (str)\n",
    "# Prints complete string\n",
    "\n",
    "print (str[0])\n",
    "# Prints first character of the string\n",
    "\n",
    "print (str[2:5])\n",
    "# Prints characters starting from 3rd to 6th\n",
    "\n",
    "print (str[2:])\n",
    "# Prints string starting from 3rd character"
   ]
  },
  {
   "cell_type": "markdown",
   "metadata": {
    "id": "qriyxc9HWqii"
   },
   "source": [
    "## Task 4.1:\n",
    "\n",
    "**Write your first name, last name, then your complete name (using the already existing variables for the latter) and then print out your complete name 20 times. Use the operators you got to know.**"
   ]
  },
  {
   "cell_type": "code",
   "execution_count": null,
   "metadata": {
    "id": "xmHN8ZQZaxe1"
   },
   "outputs": [],
   "source": [
    "# write your code here\n"
   ]
  },
  {
   "cell_type": "markdown",
   "metadata": {
    "id": "jR_NxGdrWqij"
   },
   "source": [
    "<details><summary>Click here for the solution</summary>\n",
    "    \n",
    "```python\n",
    "# for example\n",
    "first_name = 'Erika'\n",
    "last_name = 'Mustermann'\n",
    "complete_name = first_name + \" \" + last_name\n",
    "print(20*complete_name)\n",
    "```\n",
    "</details>"
   ]
  },
  {
   "cell_type": "markdown",
   "metadata": {
    "id": "6EVgKsgPWqij"
   },
   "source": [
    "## Task 4.2: \n",
    "**Calculate for how long you have lived (in days) since your birth date (assuming one year has 365 days and one month has 31 days).**"
   ]
  },
  {
   "cell_type": "code",
   "execution_count": null,
   "metadata": {
    "id": "govexaT7axe4"
   },
   "outputs": [],
   "source": [
    "# Write your code here\n"
   ]
  },
  {
   "cell_type": "markdown",
   "metadata": {
    "id": "XpwENNGZWqij"
   },
   "source": [
    "<details><summary>Click here for the solution</summary>\n",
    "    \n",
    "```python\n",
    "# for example the date of birth is 01.01.1980 and today is 18.04.2019\n",
    "days = (2019 - 1980)*365 + (4 - 1)*31 + (18 - 1)\n",
    "print (days)\n",
    "```\n",
    "</details>"
   ]
  },
  {
   "cell_type": "markdown",
   "metadata": {
    "id": "_-ZpeTZpWqik"
   },
   "source": [
    "## Task 4.3\n",
    "**Let b be 27 and c 49. Return True if b is less than c.**"
   ]
  },
  {
   "cell_type": "code",
   "execution_count": null,
   "metadata": {
    "id": "XxFu1K0-axe7"
   },
   "outputs": [],
   "source": [
    "# write your code here\n"
   ]
  },
  {
   "cell_type": "markdown",
   "metadata": {
    "id": "XBsIS-WMWqil"
   },
   "source": [
    "<details><summary>Click here for the solution</summary>\n",
    "\n",
    "```python\n",
    "b = 27\n",
    "c = 49\n",
    "print (b < c)\n",
    "```\n",
    "\n",
    "</details>"
   ]
  },
  {
   "cell_type": "markdown",
   "metadata": {
    "id": "JBf5nKHNWqin"
   },
   "source": [
    "# Task 5: \n",
    "\n",
    "## List Comprehension"
   ]
  },
  {
   "cell_type": "markdown",
   "metadata": {
    "id": "dFbmzNC_Wqin"
   },
   "source": [
    "Lists are what they seem - a list of values. Each one of them is numbered, starting from zero - the first one\n",
    "is numbered zero, the second 1, the third 2, etc. You can remove values from the list, and add new values to the end.<br>\n",
    "\n",
    "Example: "
   ]
  },
  {
   "cell_type": "code",
   "execution_count": null,
   "metadata": {
    "id": "lJqyltPfWqio"
   },
   "outputs": [],
   "source": [
    "names = [\"Otto\", \"Erika\", \"Max\", \"Julia\", \"Paul\"]"
   ]
  },
  {
   "cell_type": "markdown",
   "metadata": {
    "id": "TUe4or9AWqio"
   },
   "source": [
    "You recall values from lists like you do with strings. "
   ]
  },
  {
   "cell_type": "code",
   "execution_count": null,
   "metadata": {
    "id": "dogHm9pPWqio"
   },
   "outputs": [],
   "source": [
    "# print name of 3rd person\n",
    "print(names[2])\n",
    "\n",
    "# print 1st and 2nd name\n",
    "# this is called splicing an array\n",
    "print(names[0:2])"
   ]
  },
  {
   "cell_type": "markdown",
   "metadata": {
    "id": "msgsCJBUWqio"
   },
   "source": [
    "To add a value to a list, you use the ```append()``` function. To add \"Heinz\" to the list you would do this:"
   ]
  },
  {
   "cell_type": "code",
   "execution_count": null,
   "metadata": {
    "id": "TJCGGUxOWqip"
   },
   "outputs": [],
   "source": [
    "names.append(\"Heinz\")\n",
    "print(names)"
   ]
  },
  {
   "cell_type": "markdown",
   "metadata": {
    "id": "dM4usrmwWqip"
   },
   "source": [
    "To remove a value from a list, you would do this:"
   ]
  },
  {
   "cell_type": "code",
   "execution_count": null,
   "metadata": {
    "id": "Apv_HIEzWqip"
   },
   "outputs": [],
   "source": [
    "del names[1]\n",
    "#deletes the 2nd name\n",
    "print(names)"
   ]
  },
  {
   "cell_type": "markdown",
   "metadata": {
    "id": "-ArbljX_Wqiq"
   },
   "source": [
    "Let there be another list which contains last names. To concatenate the two lists you would do this:"
   ]
  },
  {
   "cell_type": "code",
   "execution_count": null,
   "metadata": {
    "id": "Il6juq6-Wqiq"
   },
   "outputs": [],
   "source": [
    "lastnames = [\"Normalverbraucher\", \"Mustermann\", \"Schulz\", \"Mueller\", \"Schmidt\"]\n",
    "print(names + lastnames)"
   ]
  },
  {
   "cell_type": "markdown",
   "metadata": {
    "id": "vCCx7Y7yWqiq"
   },
   "source": [
    "Finally, we can determine the length of a list by using the built-in ```len()``` function:"
   ]
  },
  {
   "cell_type": "code",
   "execution_count": null,
   "metadata": {
    "id": "Rhz3ohqEWqir"
   },
   "outputs": [],
   "source": [
    "print(len(names))"
   ]
  },
  {
   "cell_type": "markdown",
   "metadata": {
    "id": "OD7VVHCNWqir"
   },
   "source": [
    "# Branches and Loops\n",
    "\n",
    "Gives you more control over your programs."
   ]
  },
  {
   "cell_type": "markdown",
   "metadata": {
    "id": "5pwWk6d4Wqir"
   },
   "source": [
    "## The ``if`` statement"
   ]
  },
  {
   "cell_type": "markdown",
   "metadata": {
    "id": "uF4D3eL-Wqir"
   },
   "source": [
    "The syntax of the if...elif statement is:\n",
    "````py\n",
    "if expression1:\n",
    "    statement(s)\n",
    "elif expression2:\n",
    "    statement(s)\n",
    "elif expression3:\n",
    "    statement(s)\n",
    "else:\n",
    "    statement(s)\n",
    "````"
   ]
  },
  {
   "cell_type": "markdown",
   "metadata": {
    "id": "A4dsXpCQWqis"
   },
   "source": [
    "However the else and elif (else + 'new' if) parts are optional.<br>\n",
    "Example:"
   ]
  },
  {
   "cell_type": "code",
   "execution_count": null,
   "metadata": {
    "id": "CzVmUB-6Wqis",
    "outputId": "71e0597e-83f6-4ab0-8f4b-298236cfaa6b"
   },
   "outputs": [
    {
     "name": "stdout",
     "output_type": "stream",
     "text": [
      "highway\n"
     ]
    }
   ],
   "source": [
    "little_traffic = True\n",
    "if (little_traffic):\n",
    "    print ('highway')\n",
    "else:\n",
    "    print ('federal and country roads')"
   ]
  },
  {
   "cell_type": "markdown",
   "metadata": {
    "id": "TZajju_fWqis"
   },
   "source": [
    "## The ``while`` loop \n",
    "The while loop is one of the looping constructs available in Python. It continues until the expression becomes false. This expression has to be a logical expression and must return either a 'True' or a 'False' value.<br>\n",
    "The syntax of the while loop is:"
   ]
  },
  {
   "cell_type": "markdown",
   "metadata": {
    "id": "0Srpr20hWqit"
   },
   "source": [
    "```py\n",
    "while expression:\n",
    "    statement(s)\n",
    "```"
   ]
  },
  {
   "cell_type": "markdown",
   "metadata": {
    "id": "tuRTIdAsWqit"
   },
   "source": [
    "Example:"
   ]
  },
  {
   "cell_type": "code",
   "execution_count": null,
   "metadata": {
    "id": "MkmcJMAkWqit",
    "outputId": "92383da2-4251-4460-e353-9d2f4b194b68"
   },
   "outputs": [
    {
     "name": "stdout",
     "output_type": "stream",
     "text": [
      "The count is: 0\n",
      "The count is: 1\n",
      "The count is: 2\n",
      "The count is: 3\n",
      "The count is: 4\n",
      "The count is: 5\n",
      "The count is: 6\n",
      "The count is: 7\n",
      "The count is: 8\n"
     ]
    }
   ],
   "source": [
    "count = 0\n",
    "while (count < 9):\n",
    "    print ('The count is:', count)\n",
    "    count = count + 1"
   ]
  },
  {
   "cell_type": "markdown",
   "metadata": {
    "id": "TvVdASGKWqit"
   },
   "source": [
    "The block here, consisting of the print and increment statements, is executed repeatedly until the count is less than 9. With each iteration, the current value of the index count is displayed and then increased by 1."
   ]
  },
  {
   "cell_type": "markdown",
   "metadata": {
    "id": "xI6nMyvGWqit"
   },
   "source": [
    "## The ``for`` loop \n",
    "The for loop in Python has the ability to iterate over the items of any sequence, such as a list or a\n",
    "string. The syntax of the loop look is:"
   ]
  },
  {
   "cell_type": "markdown",
   "metadata": {
    "id": "uq2to2y4Wqit"
   },
   "source": [
    "````python\n",
    "for item in list:\n",
    "    statements(s)\n",
    "````"
   ]
  },
  {
   "cell_type": "markdown",
   "metadata": {
    "id": "iw9anFN1Wqit"
   },
   "source": [
    "If a sequence contains an expression list, it is evaluated first. Then, the first item in the sequence is assigned to the iterating variable 'item'. Next, the statements block is executed. Each item in the list is assigned to 'item',\n",
    "and the statements(s) block is executed until the entire sequence is exhausted. <br>\n",
    "Example:"
   ]
  },
  {
   "cell_type": "code",
   "execution_count": null,
   "metadata": {
    "id": "T4HMMe4UWqiu"
   },
   "outputs": [],
   "source": [
    "# First Example\n",
    "for letter in 'Python': \n",
    "    print ('Current Letter :', letter)\n",
    "\n",
    "# Second Example\n",
    "fruits = ['banana', 'apple', 'mango']\n",
    "for fruit in fruits: \n",
    "    print ('Current fruit :', fruit)"
   ]
  },
  {
   "cell_type": "markdown",
   "metadata": {
    "id": "W5hFbsRQWqiu"
   },
   "source": [
    "## Combination of loops and branches"
   ]
  },
  {
   "cell_type": "markdown",
   "metadata": {
    "id": "opuqK2exWqiu"
   },
   "source": [
    "General Syntax:\n",
    "```py\n",
    "[ expression for item in list if conditional ]\n",
    "```\n",
    "equivalent to\n",
    "```py\n",
    "for item in list:\n",
    "    if conditional:\n",
    "        expression\n",
    "```"
   ]
  },
  {
   "cell_type": "markdown",
   "metadata": {
    "id": "InsZpDgdWqiv"
   },
   "source": [
    "Below you can see further examples, starting with a simple iteration over a number. We can only  iterate over sets, so we need the range() function."
   ]
  },
  {
   "cell_type": "code",
   "execution_count": null,
   "metadata": {
    "id": "DQPEHoilWqiv"
   },
   "outputs": [],
   "source": [
    "[i for i in range(10)]"
   ]
  },
  {
   "cell_type": "markdown",
   "metadata": {
    "id": "YavahHnoWqiv"
   },
   "source": [
    "Use a condition to filter to even numbers."
   ]
  },
  {
   "cell_type": "code",
   "execution_count": null,
   "metadata": {
    "id": "kGEPmoCFWqiv"
   },
   "outputs": [],
   "source": [
    "[i for i in range(10) if i % 2 == 0]"
   ]
  },
  {
   "cell_type": "markdown",
   "metadata": {
    "id": "LH-R6DpTWqiw"
   },
   "source": [
    "You can also modify the result of the iteration."
   ]
  },
  {
   "cell_type": "code",
   "execution_count": null,
   "metadata": {
    "id": "Pu-w5Y1pWqiw"
   },
   "outputs": [],
   "source": [
    "[i**2 for i in range(10)]"
   ]
  },
  {
   "cell_type": "markdown",
   "metadata": {
    "id": "TlrfPbYIWqiw"
   },
   "source": [
    "Working with strings:"
   ]
  },
  {
   "cell_type": "code",
   "execution_count": null,
   "metadata": {
    "id": "I_nRPBuAWqiw"
   },
   "outputs": [],
   "source": [
    "words = \"This is an example\".split()\n",
    "print(words)"
   ]
  },
  {
   "cell_type": "markdown",
   "metadata": {
    "id": "mMoDfG1nWqix"
   },
   "source": [
    "A string can be accessed like a list."
   ]
  },
  {
   "cell_type": "code",
   "execution_count": null,
   "metadata": {
    "id": "04rSbvZcWqix"
   },
   "outputs": [],
   "source": [
    "[word[0] for word in words]"
   ]
  },
  {
   "cell_type": "markdown",
   "metadata": {
    "id": "IspwJ37qWqix"
   },
   "source": [
    "We can modify each of the resulting elements..."
   ]
  },
  {
   "cell_type": "code",
   "execution_count": null,
   "metadata": {
    "id": "KSj8fMM5Wqix"
   },
   "outputs": [],
   "source": [
    "[word.upper() for word in words]"
   ]
  },
  {
   "cell_type": "markdown",
   "metadata": {
    "id": "bRnwZolSWqiy"
   },
   "source": [
    "...or use a function on each element"
   ]
  },
  {
   "cell_type": "code",
   "execution_count": null,
   "metadata": {
    "id": "Vbo83RikWqiy"
   },
   "outputs": [],
   "source": [
    "[len(token) for token in words]"
   ]
  },
  {
   "cell_type": "markdown",
   "metadata": {
    "id": "bXgHAqciWqiy"
   },
   "source": [
    "Another example for using conditions/filters:"
   ]
  },
  {
   "cell_type": "code",
   "execution_count": null,
   "metadata": {
    "id": "KqX7ohRUWqiy"
   },
   "outputs": [],
   "source": [
    "[word for word in words if len(word) < 4]"
   ]
  },
  {
   "cell_type": "markdown",
   "metadata": {
    "id": "kxkYqePzJUnU"
   },
   "source": [
    "## Task 5.1"
   ]
  },
  {
   "cell_type": "markdown",
   "metadata": {
    "id": "eKpckCfSWqiz"
   },
   "source": [
    "**Create a list with the following elements (in brackets is given the data type):\n",
    "123(integer), me(string), 42(integer), like(string) easy(string), Python(string), 21.0(real number), twenty(string). Then print the list.**\n"
   ]
  },
  {
   "cell_type": "code",
   "execution_count": null,
   "metadata": {
    "id": "TXmlV-8haxfS"
   },
   "outputs": [],
   "source": [
    "# Write your code here\n"
   ]
  },
  {
   "cell_type": "markdown",
   "metadata": {
    "id": "lGDkk0-5Wqiz"
   },
   "source": [
    "<details><summary>Click here for the solution</summary>\n",
    "\n",
    "```python\n",
    "list = [123, 'me', 42, 'like', 'easy', 'Python', 21.0, 'twenty']\n",
    "print (list)\n",
    "```\n",
    "\n",
    "</details>"
   ]
  },
  {
   "cell_type": "markdown",
   "metadata": {
    "id": "X7QDwRIdWqi0"
   },
   "source": [
    "## Task 5.2\n",
    "**Print out elements starting from 3rd to 6th**"
   ]
  },
  {
   "cell_type": "code",
   "execution_count": null,
   "metadata": {
    "id": "K0CX639KWqi0"
   },
   "outputs": [],
   "source": [
    "# Write your code here\n"
   ]
  },
  {
   "cell_type": "markdown",
   "metadata": {
    "id": "EZi8jNM_b2By"
   },
   "source": [
    "<details><summary>Click here for the solution</summary>\n",
    "\n",
    "```python\n",
    "print (list[2:6])\n",
    "```\n",
    "\n",
    "</details>"
   ]
  },
  {
   "cell_type": "markdown",
   "metadata": {
    "id": "9odkmR9hWqi0"
   },
   "source": [
    "## Task5.3: \n",
    "**Add to the list elements: quickly(string) and 12.1(real number). Print out the last three elements. Use the function 'len()' for the latter.**"
   ]
  },
  {
   "cell_type": "code",
   "execution_count": null,
   "metadata": {
    "id": "tO8npMDPWqi1"
   },
   "outputs": [],
   "source": [
    "# Write your code here\n"
   ]
  },
  {
   "cell_type": "markdown",
   "metadata": {
    "id": "71N32DkjdVm5"
   },
   "source": [
    "<details><summary>Click here for the solution</summary>\n",
    "\n",
    "```python\n",
    "list.append('quickly')\n",
    "list.append(12.1)\n",
    "print (list[len(list)-3:len(list)])\n",
    "```\n",
    "\n",
    "</details>"
   ]
  },
  {
   "cell_type": "markdown",
   "metadata": {
    "id": "88fFS0toWqi1"
   },
   "source": [
    "## Task 5.4 \n",
    "**Delete the fifth element of this list and print out the length of the double list.**"
   ]
  },
  {
   "cell_type": "code",
   "execution_count": null,
   "metadata": {
    "id": "OoHPoIOqWqi1"
   },
   "outputs": [],
   "source": [
    "# Write your code here\n"
   ]
  },
  {
   "cell_type": "markdown",
   "metadata": {
    "id": "FKn5IHr9dzdv"
   },
   "source": [
    "<details><summary>Click here for the solution</summary>\n",
    "\n",
    "```python\n",
    "del list[4]\n",
    "print (len(2 * list))\n",
    "```\n",
    "\n",
    "</details>"
   ]
  },
  {
   "cell_type": "markdown",
   "metadata": {
    "id": "j0Zn-6iQWqi1"
   },
   "source": [
    "## Task 5.5\n",
    "**Iterate over all elements of the list, which consist  of the following elements: 25, \"Berlin\", \"large\", 575.2, \"mango\", \"Snappy\" and print out all these elements.**"
   ]
  },
  {
   "cell_type": "code",
   "execution_count": null,
   "metadata": {
    "id": "LgRBU2rAWqi1"
   },
   "outputs": [],
   "source": [
    "# Write your code here\n"
   ]
  },
  {
   "cell_type": "markdown",
   "metadata": {
    "id": "16vTls8WeJk-"
   },
   "source": [
    "<details><summary>Click here for the solution</summary>\n",
    "\n",
    "```python\n",
    "list = [25, 'Berlin', 'large', 575.2, 'mango', 'Snappy']\n",
    "for element in list:\n",
    "    print (element)\n",
    "```\n",
    "\n",
    "</details>"
   ]
  },
  {
   "cell_type": "markdown",
   "metadata": {
    "id": "HJVePdzFWqi2"
   },
   "source": [
    "## Task 5.6.\n",
    "**Print out all even numbers numbers from 0(inclusively) to 14(exclusively).**"
   ]
  },
  {
   "cell_type": "code",
   "execution_count": null,
   "metadata": {
    "id": "3PNkPbf2Wqi2"
   },
   "outputs": [],
   "source": [
    "# Write your code here\n"
   ]
  },
  {
   "cell_type": "markdown",
   "metadata": {
    "id": "6tBjJLMVegXz"
   },
   "source": [
    "<details><summary>Click here for the solution</summary>\n",
    "\n",
    "```python\n",
    "counter = 0\n",
    "while counter < 14:\n",
    "    print(counter)\n",
    "    counter = counter + 2\n",
    "```\n",
    "\n",
    "</details>"
   ]
  },
  {
   "cell_type": "markdown",
   "metadata": {
    "id": "Aqjs4piAWqi4"
   },
   "source": [
    "## Task 5.7\n",
    "**Given two integer numbers b and c find the maximum of these two numbers and print the name of the maximum. In case b equals c print 'b and c are equal'. You can test your program with following data:**\n",
    "\n",
    "```\n",
    "    1. b = 6, c = 9\n",
    "    2. b = 4, c = 4\n",
    "    3. b= 23, c = 2\n",
    "```"
   ]
  },
  {
   "cell_type": "code",
   "execution_count": null,
   "metadata": {
    "id": "RjnSc4x5Wqi5"
   },
   "outputs": [],
   "source": [
    "# Write your code here\n"
   ]
  },
  {
   "cell_type": "markdown",
   "metadata": {
    "id": "n4BQrkJRe51P"
   },
   "source": [
    "<details><summary>Click here for the solution</summary>\n",
    "\n",
    "```python\n",
    "b = 6\n",
    "c = 9\n",
    "if b < c:\n",
    "    print ('c is the maximum')\n",
    "elif b == c:\n",
    "    print ('b and c are equal')\n",
    "else:\n",
    "    print ('b is the maximum')\n",
    "```\n",
    "\n",
    "</details>"
   ]
  },
  {
   "cell_type": "markdown",
   "metadata": {
    "id": "6SiVg_IuWqi5"
   },
   "source": [
    "## Task 5.8 \n",
    "**Create a list name_lastname so that each name from earlier on is followed by the corresponding last name. You want your solution to be:**\n",
    "```['Otto', 'Normalverbraucher', 'Max', 'Mustermann', 'Julia', 'Schulz', 'Paul', 'Mueller', 'Heinz', 'Schmidt']```"
   ]
  },
  {
   "cell_type": "code",
   "execution_count": null,
   "metadata": {
    "id": "-3QkcZlcf1Vk"
   },
   "outputs": [],
   "source": [
    "# Write your code here\n"
   ]
  },
  {
   "cell_type": "markdown",
   "metadata": {
    "id": "5mYBpEPhf4x3"
   },
   "source": [
    "<details><summary>Click here for the solution</summary>\n",
    "\n",
    "```python\n",
    "names=[\"Otto\", \"Max\", \"Julia\", \"Paul\", \"Heinz\"]\n",
    "lastnames=[\"Normalverbraucher\", \"Mustermann\", \"Schulz\", \"Müller\", \"Schmidt\"]\n",
    "name_lastname=[]\n",
    "i=0\n",
    "for name in names:\n",
    "    name_lastname.append(names[i])\n",
    "    name_lastname.append(lastnames[i])\n",
    "    i+=1\n",
    "print(name_lastname)\n",
    "```\n",
    "\n",
    "</details>"
   ]
  },
  {
   "cell_type": "markdown",
   "metadata": {
    "id": "dMiTskbtWqi6"
   },
   "source": [
    "Alternatively, use the ```zip()``` method, but note that it yields a slightly different result (maybe even more useful):"
   ]
  },
  {
   "cell_type": "code",
   "execution_count": null,
   "metadata": {
    "id": "pstL3ZgxWqi7"
   },
   "outputs": [],
   "source": [
    "# Write your code here\n"
   ]
  },
  {
   "cell_type": "markdown",
   "metadata": {
    "id": "BazAvCa0gBUK"
   },
   "source": [
    "<details><summary>Click here for the solution</summary>\n",
    "\n",
    "```python\n",
    "[elem for elem in zip(names, lastnames)]\n",
    "```\n",
    "\n",
    "</details>"
   ]
  },
  {
   "cell_type": "markdown",
   "metadata": {
    "id": "Yhs_E3K_Wqi7"
   },
   "source": [
    "## Task 5.9\n",
    "**Consider the following text: ``\"Today it's nice weather. Is it not nice today :-) ?\"``\n",
    "Print the following information of the given text:**"
   ]
  },
  {
   "cell_type": "markdown",
   "metadata": {
    "id": "KNgbxt1kWqi7"
   },
   "source": [
    "**1. What is the length of this text?**"
   ]
  },
  {
   "cell_type": "code",
   "execution_count": null,
   "metadata": {
    "id": "Kb54ezsvWqi7"
   },
   "outputs": [],
   "source": [
    "# Write your code here\n"
   ]
  },
  {
   "cell_type": "markdown",
   "metadata": {
    "id": "AhL6mqHIgTAr"
   },
   "source": [
    "<details><summary>Click here for the solution</summary>\n",
    "\n",
    "```python\n",
    "text = \"Today it's nice weather. Is it not nice today :-) ?\"\n",
    "print (len(text))\n",
    "```\n",
    "\n",
    "</details>"
   ]
  },
  {
   "cell_type": "markdown",
   "metadata": {
    "id": "HZYjT7RkWqi8"
   },
   "source": [
    "**2. Represent this text as a list of tokens.**"
   ]
  },
  {
   "cell_type": "code",
   "execution_count": null,
   "metadata": {
    "id": "1t3nF59pWqi8"
   },
   "outputs": [],
   "source": [
    "# Write your code here\n"
   ]
  },
  {
   "cell_type": "markdown",
   "metadata": {
    "id": "SD_-oQvagudT"
   },
   "source": [
    "<details><summary>Click here for the solution</summary>\n",
    "\n",
    "```python\n",
    "tokens = text.split()\n",
    "```\n",
    "\n",
    "</details>"
   ]
  },
  {
   "cell_type": "markdown",
   "metadata": {
    "id": "vmjkBB1_Wqi8"
   },
   "source": [
    "**3. Concatenate the fifth to eighth element with the last five elements**"
   ]
  },
  {
   "cell_type": "code",
   "execution_count": null,
   "metadata": {
    "id": "Skc_EGngWqi8"
   },
   "outputs": [],
   "source": [
    "# Write your code here\n"
   ]
  },
  {
   "cell_type": "markdown",
   "metadata": {
    "id": "AjJMtbNZg7D-"
   },
   "source": [
    "<details><summary>Click here for the solution</summary>\n",
    "\n",
    "```python\n",
    "print (text[4 : 8] + text[len(text)-5 : len(text)])\n",
    "```\n",
    "\n",
    "</details>"
   ]
  },
  {
   "cell_type": "markdown",
   "metadata": {
    "id": "tROJI4ssWqi9"
   },
   "source": [
    "**4. How many times does the letter \"i\" appear in the text? How much is this as a percentage of the total number of\n",
    "letters in this text?**"
   ]
  },
  {
   "cell_type": "code",
   "execution_count": null,
   "metadata": {
    "id": "DRdoRuxcWqi9"
   },
   "outputs": [],
   "source": [
    "# Write your code here\n"
   ]
  },
  {
   "cell_type": "markdown",
   "metadata": {
    "id": "Vot4cihJhN5d"
   },
   "source": [
    "<details><summary>Click here for the solution</summary>\n",
    "\n",
    "```python\n",
    "i_counter = 0\n",
    "for letter in text:\n",
    "    if letter == 'i':\n",
    "        i_counter = i_counter + 1\n",
    "print (i_counter)\n",
    "print ((i_counter * 100.0 / len(text)), '%') # as real number\n",
    "print ((i_counter * 100 // len(text)), '%') # as integer\n",
    "```\n",
    "\n",
    "</details>"
   ]
  },
  {
   "cell_type": "markdown",
   "metadata": {
    "id": "7qMiJeiuWqi-"
   },
   "source": [
    "## Task 5.10\n",
    "**Given a list of elements (defined below).\n",
    "Print out the longest element of this list and its length.**"
   ]
  },
  {
   "cell_type": "code",
   "execution_count": 1,
   "metadata": {
    "id": "MaB8hZX4Wqi-"
   },
   "outputs": [],
   "source": [
    "tokens = \"I like the weather in autumn, how it's cold and crips and sunny and fresh.\".split()\n"
   ]
  },
  {
   "cell_type": "code",
   "execution_count": 4,
   "metadata": {},
   "outputs": [],
   "source": [
    "# Write your code here\n"
   ]
  },
  {
   "cell_type": "markdown",
   "metadata": {
    "id": "fdCgeFpXhkFL"
   },
   "source": [
    "<details><summary>Click here for the solution</summary>\n",
    "\n",
    "```python\n",
    "\n",
    "max_length = 0\n",
    "longest_element = ''\n",
    "for item in tokens:\n",
    "    if len(item) > max_length:\n",
    "        max_length = len(item)\n",
    "        longest_element = item\n",
    "print('the longest element is:', longest_element)\n",
    "print('the length of', longest_element, 'is', max_length)\n",
    "```\n",
    "Alternative way of doing the same\n",
    "\n",
    "```python\n",
    "max_length, longest_element = max([(len(x),x) for x in tokens])\n",
    "print(longest_element + \" has length \" + str(max_length))\n",
    "```\n",
    "</details>"
   ]
  },
  {
   "cell_type": "markdown",
   "metadata": {
    "id": "5pDqppEzWqjA"
   },
   "source": [
    "# Task 6: \n",
    "\n",
    "## Functions"
   ]
  },
  {
   "cell_type": "markdown",
   "metadata": {
    "id": "ffAA-h5nWqjA"
   },
   "source": [
    "As you already know, Python gives you many built-in functions like ```print()```, ```len()``` etc. but you can also create your own functions. These functions are called user-defined functions.\n",
    "\n",
    "Functions are little self-contained programs that perform a specific task, which you can incorporate into your own, larger programs. After you have created a function, you can use it at any time, in any place. This saves time and without repetitions of code your programm will be more readable for other people.\n",
    "\n",
    "We start with the keyword ```def``` which is followed by the name of the function and the indicator for the function's arguments. We list the arguments giving them the names that will be used in the definition of the function. These names have nothing to do with any name that may appear outside the function definition. The line ends with a colon and what follows, the definition of the function, is indented.\n",
    "This indented block carries the actual working of the function.\n",
    "\n",
    "By using the keyword ```return``` (which can only be used in a function) the calculated value is returned."
   ]
  },
  {
   "cell_type": "markdown",
   "metadata": {
    "id": "xAMEUXkDWqjB"
   },
   "source": [
    "Below you can see a function which, given a list, prints out the total length of elements in the list."
   ]
  },
  {
   "cell_type": "code",
   "execution_count": null,
   "metadata": {
    "id": "bJRJC7egWqjB"
   },
   "outputs": [],
   "source": [
    "def total_length(list):\n",
    "    sum = 0\n",
    "    for element in list:\n",
    "        sum = sum + len(element)\n",
    "    return sum\n",
    "\n",
    "total_length(['123', 'xyz', 'a'])"
   ]
  },
  {
   "cell_type": "markdown",
   "metadata": {
    "id": "8mdXogNAWqjB"
   },
   "source": [
    "One more example: This function finds the length of the longest element in a list."
   ]
  },
  {
   "cell_type": "code",
   "execution_count": null,
   "metadata": {
    "id": "FRfHoHvQWqjC"
   },
   "outputs": [],
   "source": [
    "def longest_element(list):\n",
    "    longest = len(list[0]) # initializes the length of the longest element as the length of the first element\n",
    "    for element in list:\n",
    "        if len(element) > longest:\n",
    "            longest = len(element)\n",
    "    return longest\n",
    "\n",
    "longest_element([\"Python\",\"GKI\",\"Introduction\"])"
   ]
  },
  {
   "cell_type": "markdown",
   "metadata": {
    "id": "YqngxmjBWqjC"
   },
   "source": [
    "## Import\n",
    "Suppose we have written a really useful function that we want to use in many different scripts.\n",
    "We can, of course, just copy the function's definition from one script to another. However, if we change the function definition in one script we have to repeat the edit in all our scripts.\n",
    "What we want is a mechanism to use a single definition in multiple scripts. This is called 'importing the function'.\n",
    "The import of only one function can cause problems, so it is better to import a module with this function. A module is a file consisting of Python code. It can define functions, variables and classes."
   ]
  },
  {
   "cell_type": "markdown",
   "metadata": {
    "id": "QX9A7fwaWqjC"
   },
   "source": [
    "### The import statement:\n",
    "You can use any Python source file as a module by executing an import statement in some other Python source file. 'import' has the following syntax:\n",
    "```py\n",
    "import module1[, module2[,... moduleN]\n",
    "```"
   ]
  },
  {
   "cell_type": "markdown",
   "metadata": {
    "id": "vQ7g9KcFWqjC"
   },
   "source": [
    "#### ```python from...import``` statement\n",
    "Python's 'from...import' statement lets you import specific attributes from a module into the current namespace:\n",
    "```py\n",
    "from modname import name1[, name2[, ... nameN]]\n",
    "```"
   ]
  },
  {
   "cell_type": "markdown",
   "metadata": {
    "id": "AdDVE4mGWqjD"
   },
   "source": [
    "#### The ```from...import *``` statement: \n",
    "It is also possible to import all names from a module into the current namespace by using the following import statement:\n",
    "```py\n",
    "from modname import *\n",
    "```"
   ]
  },
  {
   "cell_type": "markdown",
   "metadata": {
    "id": "LLAD1JdwJguA"
   },
   "source": [
    "# Task 6.1"
   ]
  },
  {
   "cell_type": "markdown",
   "metadata": {
    "id": "QvefRGD7WqjD"
   },
   "source": [
    "**Given two integer numbers b and c find the minimum of these two numbers and print the name of the minimum. In case b equals c print 'b and c are equal'. Write a function to solve this task: You can test your program with following data:**\n",
    "\n",
    "```\n",
    "   1. b = 6, c = 9\n",
    "   2. b = 4, c = 4\n",
    "   3. b= 23, c = 2\n",
    "```"
   ]
  },
  {
   "cell_type": "code",
   "execution_count": 32,
   "metadata": {
    "id": "mdDdbBHcWqjD"
   },
   "outputs": [],
   "source": [
    "# Write your code here\n",
    "def min(b,c):\n",
    "    \n",
    "    # complete the body of the function\n",
    "    \n",
    "    return None"
   ]
  },
  {
   "cell_type": "code",
   "execution_count": 8,
   "metadata": {},
   "outputs": [],
   "source": [
    "# Use the following input to check the correctness of your code\n",
    "min(6, 9) # 1.\n",
    "min(4, 4) # 2.\n",
    "min(23, 2) # 3."
   ]
  },
  {
   "cell_type": "markdown",
   "metadata": {
    "id": "X0-M1-Vywxx4"
   },
   "source": [
    "<details><summary>Click here for the solution</summary>\n",
    "\n",
    "```python\n",
    "def min(b,c):\n",
    "    if b < c:\n",
    "        print ('b is the minimum')\n",
    "    elif b == c:\n",
    "        print ('b and c are equal')\n",
    "    else:\n",
    "        print ('c is the minimum')\n",
    "\n",
    "min(6, 9) # 1.\n",
    "min(4, 4) # 2.\n",
    "min(23, 2) # 3.\n",
    "```\n",
    "\n",
    "</details>"
   ]
  },
  {
   "cell_type": "markdown",
   "metadata": {
    "id": "0LR38rFRWqjE"
   },
   "source": [
    "## Task 6.2\n",
    "**Given is a list print out the total length of the list's elements.\n",
    "For example: total_length([\"123\", \"xyz\", 'a']) returns 7.**"
   ]
  },
  {
   "cell_type": "code",
   "execution_count": 9,
   "metadata": {
    "id": "3mm9CwwlWqjE"
   },
   "outputs": [
    {
     "name": "stdout",
     "output_type": "stream",
     "text": [
      "0\n"
     ]
    }
   ],
   "source": [
    "# Write your code here\n",
    "def total_length(l):\n",
    "    \n",
    "    sum = 0\n",
    "    \n",
    "    # complete the body of the function\n",
    "    \n",
    "    return sum\n",
    "    \n",
    "print (total_length([\"123\",\"xyz\",\"a\"]))"
   ]
  },
  {
   "cell_type": "markdown",
   "metadata": {
    "id": "u7gcq-CwxXoL"
   },
   "source": [
    "<details><summary>Click here for the solution</summary>\n",
    "\n",
    "```python\n",
    "def total_length(l):\n",
    "    sum = 0\n",
    "    for element in l:\n",
    "        sum = sum + len(element)\n",
    "    return sum\n",
    "print (total_length([\"123\",\"xyz\",\"a\"])).\n",
    "```\n",
    "\n",
    "</details>"
   ]
  },
  {
   "cell_type": "markdown",
   "metadata": {
    "id": "j4gvnH8oWqjE"
   },
   "source": [
    "## Task 6.3\n",
    "**Given is a list with integer and real numbers. Define a function that returns a list with only positive numbers.**"
   ]
  },
  {
   "cell_type": "code",
   "execution_count": 11,
   "metadata": {
    "id": "vFoJ82yPWqjF"
   },
   "outputs": [],
   "source": [
    "# Write your code here\n",
    "def positive(a_list):\n",
    "    answer = []\n",
    "    \n",
    "    # Complete the body of the function\n",
    "    \n",
    "    return answer"
   ]
  },
  {
   "cell_type": "code",
   "execution_count": 12,
   "metadata": {},
   "outputs": [
    {
     "name": "stdout",
     "output_type": "stream",
     "text": [
      "[]\n"
     ]
    }
   ],
   "source": [
    "print (positive([3,-3,2.4,-0.1]))"
   ]
  },
  {
   "cell_type": "markdown",
   "metadata": {
    "id": "WVL2aMYayAYT"
   },
   "source": [
    "<details><summary>Click here for the solution</summary>\n",
    "\n",
    "```python\n",
    "def positive(a_list):\n",
    "    answer = []\n",
    "    for a in a_list:\n",
    "        if a > 0:\n",
    "            answer.append(a)\n",
    "    return answer\n",
    "print (positive([3,-3,2.4,-0.1]))\n",
    "```\n",
    "\n",
    "</details>"
   ]
  },
  {
   "cell_type": "markdown",
   "metadata": {
    "id": "BrYviu6OWqjF"
   },
   "source": [
    "**Define a function that returns how often an input letter appears in the text (don't use any built-in functions). How much is this as a percentage of the total number of letters in this text (print it out)?**"
   ]
  },
  {
   "cell_type": "code",
   "execution_count": 15,
   "metadata": {
    "id": "ehnN7mnCWqjF"
   },
   "outputs": [],
   "source": [
    "# Write your code here\n",
    "def s_occur(text, input_letter):\n",
    "    s_counter = 0\n",
    "    \n",
    "    # complete the body of the function\n",
    "    \n",
    "    print (f\"The {input_letter} make up  {(s_counter * 100 / len(text))} of the text\")\n",
    "    \n",
    "    return s_counter"
   ]
  },
  {
   "cell_type": "code",
   "execution_count": null,
   "metadata": {},
   "outputs": [],
   "source": [
    "print (s_occur(\"This is a test text\"))"
   ]
  },
  {
   "cell_type": "markdown",
   "metadata": {
    "id": "QQgyDXOsyPjk"
   },
   "source": [
    "<details><summary>Click here for the solution</summary>\n",
    "\n",
    "```python\n",
    "def s_occur(text, input_letter):\n",
    "    s_counter = 0\n",
    "    \n",
    "    for letter in text:\n",
    "        if letter == input_letter:\n",
    "            s_counter = s_counter + 1\n",
    "            \n",
    "    print (\"The s's make up\", (s_counter * 100 / len(text)), '%',\"of the text\")\n",
    "    return s_counter\n",
    "print (s_occur(\"This is a test text\"))\n",
    "```\n",
    "\n",
    "</details>"
   ]
  },
  {
   "cell_type": "markdown",
   "metadata": {
    "id": "jwYR2iYmzkbH"
   },
   "source": [
    "## Task 6.4"
   ]
  },
  {
   "cell_type": "markdown",
   "metadata": {
    "id": "viqoKwyjWqjF"
   },
   "source": [
    "**1. Define a function that returns the length of the longest word of text. (Hint: e.g. with a for loop you can iterate over the words of the text.)**"
   ]
  },
  {
   "cell_type": "code",
   "execution_count": 19,
   "metadata": {
    "id": "eHyo1ItDWqjG"
   },
   "outputs": [],
   "source": [
    "# Write your code here\n",
    "def max_length(text):\n",
    "    \n",
    "    max_len = 0\n",
    "    \n",
    "    # complete the body of the function\n",
    "    \n",
    "    \n",
    "    return max_len"
   ]
  },
  {
   "cell_type": "code",
   "execution_count": 20,
   "metadata": {},
   "outputs": [
    {
     "name": "stdout",
     "output_type": "stream",
     "text": [
      "0\n"
     ]
    }
   ],
   "source": [
    "print(max_length(\"This is a test text\"))"
   ]
  },
  {
   "cell_type": "markdown",
   "metadata": {
    "id": "c31rNriqzwTm"
   },
   "source": [
    "<details><summary>Click here for the solution</summary>\n",
    "\n",
    "```python\n",
    "def max_length(text):\n",
    "    max_len = 0\n",
    "    for item in text.split():\n",
    "        if len(item) > max_len:\n",
    "            max_len = len(item)\n",
    "    return max_len\n",
    "\n",
    "print(max_length(\"This is a test text\"))\n",
    "```\n",
    "\n",
    "</details>"
   ]
  },
  {
   "cell_type": "markdown",
   "metadata": {
    "id": "FetoCiIsWqjH"
   },
   "source": [
    "**2. Define a function that prints \"Yes\" when the text has more than 20,000 tokens and the length of the longest word is at least 10 characters. Otherwise return \"No\". (Hint: You can use the function from the previous task.)**"
   ]
  },
  {
   "cell_type": "code",
   "execution_count": 26,
   "metadata": {
    "id": "KFnyyfLAWqjH"
   },
   "outputs": [],
   "source": [
    "# Write your code here\n",
    "def yes_or_no(text):\n",
    "    # complete the body of the function\n",
    "    return None"
   ]
  },
  {
   "cell_type": "code",
   "execution_count": 27,
   "metadata": {},
   "outputs": [
    {
     "name": "stdout",
     "output_type": "stream",
     "text": [
      "None\n"
     ]
    }
   ],
   "source": [
    "print(yes_or_no(\"This is a test text\"))"
   ]
  },
  {
   "cell_type": "markdown",
   "metadata": {
    "id": "gJV4GvpA0TnT"
   },
   "source": [
    "<details><summary>Click here for the solution</summary>\n",
    "\n",
    "```python\n",
    "def yes_or_no(text):\n",
    "    if len(text) > 20000 and max_length(text) >= 10:\n",
    "        print (\"Yes\")\n",
    "    else:\n",
    "        print (\"No\")\n",
    "print(yes_or_no(\"This is a test text\"))\n",
    "```\n",
    "\n",
    "</details>"
   ]
  },
  {
   "cell_type": "markdown",
   "metadata": {
    "id": "-6Lktaf4WqjI"
   },
   "source": [
    "**3. Define a function that prints out all tokens of a text. Use a ```for``` loop.**"
   ]
  },
  {
   "cell_type": "code",
   "execution_count": 30,
   "metadata": {
    "id": "5BkXCMBFWqjI"
   },
   "outputs": [],
   "source": [
    "# Write your code here     \n",
    "def print_out(text):\n",
    "    # complete the body of the function\n",
    "    return None"
   ]
  },
  {
   "cell_type": "code",
   "execution_count": 31,
   "metadata": {},
   "outputs": [],
   "source": [
    "print_out(\"This is a test text\")"
   ]
  },
  {
   "cell_type": "markdown",
   "metadata": {
    "id": "fb5Pxjbr0uND"
   },
   "source": [
    "<details><summary>Click here for the solution</summary>\n",
    "\n",
    "```python\n",
    "def print_out(text):\n",
    "    for item in text.split():\n",
    "        print(item)\n",
    "        \n",
    "print_out(\"This is a test text\")\n",
    "```\n",
    "\n",
    "</details>"
   ]
  },
  {
   "cell_type": "markdown",
   "metadata": {
    "id": "4ANeQ4wosa1p"
   },
   "source": [
    "# Thank you for completing this exercise\n",
    "\n",
    "______\n",
    "\n",
    "\n",
    "## Other Contributors\n",
    "\n",
    "N/A"
   ]
  },
  {
   "cell_type": "code",
   "execution_count": null,
   "metadata": {
    "id": "Rui44-8Saxfv"
   },
   "outputs": [],
   "source": []
  }
 ],
 "metadata": {
  "colab": {
   "name": "exercise_en.ipynb",
   "provenance": []
  },
  "kernelspec": {
   "display_name": "Python 3",
   "language": "python",
   "name": "python3"
  },
  "language_info": {
   "codemirror_mode": {
    "name": "ipython",
    "version": 3
   },
   "file_extension": ".py",
   "mimetype": "text/x-python",
   "name": "python",
   "nbconvert_exporter": "python",
   "pygments_lexer": "ipython3",
   "version": "3.7.1"
  },
  "varInspector": {
   "cols": {
    "lenName": 16,
    "lenType": 16,
    "lenVar": 40
   },
   "kernels_config": {
    "python": {
     "delete_cmd_postfix": "",
     "delete_cmd_prefix": "del ",
     "library": "var_list.py",
     "varRefreshCmd": "print(var_dic_list())"
    },
    "r": {
     "delete_cmd_postfix": ") ",
     "delete_cmd_prefix": "rm(",
     "library": "var_list.r",
     "varRefreshCmd": "cat(var_dic_list()) "
    }
   },
   "types_to_exclude": [
    "module",
    "function",
    "builtin_function_or_method",
    "instance",
    "_Feature"
   ],
   "window_display": false
  }
 },
 "nbformat": 4,
 "nbformat_minor": 1
}
