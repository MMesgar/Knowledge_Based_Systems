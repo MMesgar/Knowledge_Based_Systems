{
 "cells": [
  {
   "cell_type": "markdown",
   "metadata": {
    "id": "S7crQ-uu6_TU"
   },
   "source": [
    "# Exercise: Jupyter Notebook \n",
    "\n",
    "Version: SoSe 2022\n",
    "\n",
    "Estimated time needed: 15 minutes\n",
    "\n",
    "Author: Mohsen Mesgar and Mohamed Abdelmagied\n",
    "\n",
    "______"
   ]
  },
  {
   "cell_type": "markdown",
   "metadata": {
    "id": "zoUhCWZZ6_Tg"
   },
   "source": [
    "# Objectives\n",
    "\n",
    "After completing this exercise you will be able to:\n",
    "\n",
    " - use markdown cells in jupyter notebook\n",
    " - use code cells in jupyter notebook\n",
    " - run both type of cells and understand the difference between them\n",
    " - understand the basics of the markdown language and write a print statement in python"
   ]
  },
  {
   "cell_type": "markdown",
   "metadata": {
    "id": "BNe5dcu1KiJE"
   },
   "source": [
    "**Reminder: Please upload this exercise on [Google Colab](https://colab.research.google.com/) so you would be able to work on the tasks**"
   ]
  },
  {
   "cell_type": "markdown",
   "metadata": {
    "id": "qfzVnpAq--Jk"
   },
   "source": [
    "# Task 1\n",
    "\n",
    "Cells in Python are where we write text or code. In Colab's Jupyter Notebook, there are two types of cells. There is a code cell and a text/markdown cell. \n",
    "\n",
    "In Colab's Jupyter Notebook, By using the Insert -> code cell/text cell  new cells can be inserted below the current cell. By default a cell is a code cell after creation. (Keyboard Shortcut: Click on a cell, and then press \"a\" to create a cell above it, or press \"b\" to create a cell below it.).\n",
    "\n",
    " You can create a cell and then toggle its location by using the upwards arrow at the right side of the cell in command mode(Shortcut: CTRL+M K) or the downwards arrow(shortcut:CTRL+M J) To delete a cell, simply select the corresponding cell and remove it via Edit -> Delete Cells. (Keyboard Shortcut: Click on the cell, then press \"d\" twice).\n",
    " \n",
    "  Now let's insert our first text cell and code cell. After creating both cells, move the text cell above this task cell and then delete the code and the markdown cell"
   ]
  },
  {
   "cell_type": "markdown",
   "metadata": {
    "id": "jg209COY9_lS"
   },
   "source": [
    "# Task 2\n",
    "\n",
    "Markdown language is a markup language(superset of HTML), which is used for text formatting in different contexts. In Jupyter Notebook we use markdown cell to format text in the same document as python code which helps with the documentation of the code. In fact, all text written so far in this notebook is using markdown cells.\n",
    "\n",
    "Now that you understand what markdown language is, it is time to create your first markdown cell. In your jupyter notebook, do the following:\n",
    "\n",
    "1. click on **insert** and then choose text cell\n",
    "1. In the new empty cell, write # Hello world\n",
    "1. In another line, write ## Hello world\n",
    "1. In yet another line, write just Hello world\n",
    "\n",
    "Do you see the difference?"
   ]
  },
  {
   "cell_type": "markdown",
   "metadata": {
    "id": "SeX1bbIlCh0M"
   },
   "source": [
    "# Task 3 \n",
    "\n",
    "Now you know what a **markdown/text** cell is, but you probably don't know how to use it. Let's go quickly through **colab's** markdown guide in order to understand the general structures in markdown.\n",
    "\n",
    "https://colab.research.google.com/notebooks/markdown_guide.ipynb#scrollTo=Lhfnlq1Surtk"
   ]
  },
  {
   "cell_type": "markdown",
   "metadata": {
    "id": "1v_Xgs4iEKUr"
   },
   "source": [
    "# Task 4\n",
    "\n",
    "In the past 2 tasks, we learned about markdown cells. But you still need to write some python code in you notebook. This is where code cells come in to play. All you need to do is go to **insert** again but this time choose code cell, write your first python statement as follows:\n",
    "\n",
    "```python\n",
    "print(\"hello world\")\n",
    "```\n",
    "\n",
    "After writing the statement, you need to run the cell either by pressing the run button on the left side of the cell or hitting command+enter (Mac) or Shift+enter (other machines)"
   ]
  },
  {
   "cell_type": "markdown",
   "metadata": {
    "id": "mZ9hBY2dEw7w"
   },
   "source": [
    "# Task 5\n",
    "\n",
    "Code cells in Jupyter Notebook have a very important feature. Variables / functions / imported libraries of a code cell can be accessed in all subsequent code cells.\n",
    "\n",
    " The output of a code cell can be deleted via ``Cell -> Current Outputs -> Clear``. If you want to delete the output of all cells, you can do this via ``Cell -> All Output -> Clear``. \n",
    " \n",
    " Try the following on the two code cells Cell 1 and Cell 2:\n",
    " \n",
    "  1. Execute Cell 1 and Cell 2 one after the other.\n",
    "  2. Change the value of \"variable\" to 16 and then execute Cell 2.\n",
    "  3. *Change the value of \"variable\" to 17 and execute Cell 1 and Cell 2 one after the other.* "
   ]
  },
  {
   "cell_type": "code",
   "execution_count": null,
   "metadata": {
    "id": "kPmTA7rtF6PU"
   },
   "outputs": [],
   "source": [
    "#cell 1\n",
    "variable=15"
   ]
  },
  {
   "cell_type": "code",
   "execution_count": null,
   "metadata": {
    "id": "9gs2mbnGF8Mo"
   },
   "outputs": [],
   "source": [
    "#cell2\n",
    "print(variable)"
   ]
  },
  {
   "cell_type": "markdown",
   "metadata": {
    "id": "vShVNHEC6_Tu"
   },
   "source": [
    "\n",
    "## Thank you for completing this exercise!\n",
    "\n",
    "______\n",
    "\n",
    "\n",
    "## Other Contributors\n",
    "\n",
    "N/A"
   ]
  }
 ],
 "metadata": {
  "colab": {
   "collapsed_sections": [],
   "name": "jupyter_notebook_en.ipynb",
   "provenance": []
  },
  "kernelspec": {
   "display_name": "Python 3",
   "language": "python",
   "name": "python3"
  },
  "language_info": {
   "codemirror_mode": {
    "name": "ipython",
    "version": 3
   },
   "file_extension": ".py",
   "mimetype": "text/x-python",
   "name": "python",
   "nbconvert_exporter": "python",
   "pygments_lexer": "ipython3",
   "version": "3.7.1"
  },
  "varInspector": {
   "cols": {
    "lenName": 16,
    "lenType": 16,
    "lenVar": 40
   },
   "kernels_config": {
    "python": {
     "delete_cmd_postfix": "",
     "delete_cmd_prefix": "del ",
     "library": "var_list.py",
     "varRefreshCmd": "print(var_dic_list())"
    },
    "r": {
     "delete_cmd_postfix": ") ",
     "delete_cmd_prefix": "rm(",
     "library": "var_list.r",
     "varRefreshCmd": "cat(var_dic_list()) "
    }
   },
   "types_to_exclude": [
    "module",
    "function",
    "builtin_function_or_method",
    "instance",
    "_Feature"
   ],
   "window_display": false
  }
 },
 "nbformat": 4,
 "nbformat_minor": 1
}
