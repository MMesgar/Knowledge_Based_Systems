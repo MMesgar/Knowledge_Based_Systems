{
  "cells": [
    {
      "cell_type": "markdown",
      "metadata": {
        "id": "view-in-github",
        "colab_type": "text"
      },
      "source": [
        "<a href=\"https://colab.research.google.com/github/MMesgar/Knowledge_Based_Systems/blob/main/lecture06/semantic_relatedness.ipynb\" target=\"_parent\"><img src=\"https://colab.research.google.com/assets/colab-badge.svg\" alt=\"Open In Colab\"/></a>"
      ]
    },
    {
      "cell_type": "markdown",
      "metadata": {
        "id": "dg_k_yXZ01Mc"
      },
      "source": [
        "\n",
        "---\n",
        "\n",
        "# Section 1. Path-based measures of semantic relatedness in symbolic KBs\n",
        "\n",
        "\n",
        "\n",
        "\n"
      ]
    },
    {
      "cell_type": "code",
      "execution_count": null,
      "metadata": {
        "colab": {
          "background_save": true
        },
        "id": "pvwMkuboBPA-"
      },
      "outputs": [],
      "source": [
        "import nltk"
      ]
    },
    {
      "cell_type": "code",
      "execution_count": null,
      "metadata": {
        "colab": {
          "background_save": true
        },
        "id": "2mERNB9gBQzg"
      },
      "outputs": [],
      "source": [
        "from nltk.corpus import wordnet as wn"
      ]
    },
    {
      "cell_type": "code",
      "execution_count": null,
      "metadata": {
        "colab": {
          "background_save": true
        },
        "id": "HN2JBc-uBa5N",
        "outputId": "dbfb115c-619b-46bd-d023-9c6f804b6a9d"
      },
      "outputs": [
        {
          "name": "stdout",
          "output_type": "stream",
          "text": [
            "[nltk_data] Downloading package wordnet to /root/nltk_data...\n",
            "[nltk_data]   Package wordnet is already up-to-date!\n"
          ]
        },
        {
          "data": {
            "text/plain": [
              "True"
            ]
          },
          "execution_count": null,
          "metadata": {},
          "output_type": "execute_result"
        }
      ],
      "source": [
        "nltk.download('wordnet')"
      ]
    },
    {
      "cell_type": "markdown",
      "metadata": {
        "id": "-hG8EYV4C4xR"
      },
      "source": [
        "**Synset:** a set of synonyms that share a common meaning."
      ]
    },
    {
      "cell_type": "code",
      "execution_count": null,
      "metadata": {
        "colab": {
          "background_save": true
        },
        "id": "6QgTDwV6BXI6"
      },
      "outputs": [],
      "source": [
        "cat = wn.synsets('cat')[0]\n",
        "dog = wn.synsets('dog')[0]"
      ]
    },
    {
      "cell_type": "code",
      "execution_count": null,
      "metadata": {
        "colab": {
          "background_save": true
        },
        "id": "0hFmAdhrDLxa",
        "outputId": "861edcf1-7f77-4edf-acd9-27d31385bff1"
      },
      "outputs": [
        {
          "data": {
            "text/plain": [
              "[Synset('domestic_cat.n.01'), Synset('wildcat.n.03')]"
            ]
          },
          "execution_count": null,
          "metadata": {},
          "output_type": "execute_result"
        }
      ],
      "source": [
        "cat.hyponyms()"
      ]
    },
    {
      "cell_type": "code",
      "execution_count": null,
      "metadata": {
        "colab": {
          "background_save": true
        },
        "id": "xjWxkKhkDBfC",
        "outputId": "adb425b1-bbd4-4c7d-b6f4-565546428797"
      },
      "outputs": [
        {
          "data": {
            "text/plain": [
              "[Synset('feline.n.01')]"
            ]
          },
          "execution_count": null,
          "metadata": {},
          "output_type": "execute_result"
        }
      ],
      "source": [
        "cat.hypernyms()"
      ]
    },
    {
      "cell_type": "markdown",
      "metadata": {
        "id": "_RqLfDM-DiKg"
      },
      "source": [
        "\n",
        "**Path Similarity:**\n",
        "Return a score denoting how similar two word senses are,\n",
        "based on the shortest path that connects the senses\n",
        "in the is-a (hypernym/hypnoym) taxonomy.\n",
        "The score is in the range 0 to 1.\n"
      ]
    },
    {
      "cell_type": "code",
      "execution_count": null,
      "metadata": {
        "colab": {
          "background_save": true
        },
        "id": "q70QGDHuBisS",
        "outputId": "c8db7184-865d-40cf-f53e-2955f97d481d"
      },
      "outputs": [
        {
          "name": "stdout",
          "output_type": "stream",
          "text": [
            "0.2\n"
          ]
        }
      ],
      "source": [
        "print(wn.path_similarity(cat, dog))\n",
        "# 0.2"
      ]
    },
    {
      "cell_type": "markdown",
      "metadata": {
        "id": "mIqLdiJjDqtT"
      },
      "source": [
        "\n",
        "**Leacock-Chodorow Similarity:**\n",
        "Return a score denoting how similar two word senses are,\n",
        "based on the shortest path that connects the senses (as above)\n",
        "and the maximum depth of the taxonomy in which the senses occur.\n",
        "The relationship is given as -log(p/2d)\n",
        "where p is the shortest path length and d the taxonomy depth."
      ]
    },
    {
      "cell_type": "code",
      "execution_count": null,
      "metadata": {
        "colab": {
          "background_save": true
        },
        "id": "V46VnJe_BsCS",
        "outputId": "75e66033-3ac8-4cae-8067-e32f6407b576"
      },
      "outputs": [
        {
          "name": "stdout",
          "output_type": "stream",
          "text": [
            "2.0281482472922856\n"
          ]
        }
      ],
      "source": [
        "print(wn.lch_similarity(cat, dog))\n",
        "# 2.0281482472922856"
      ]
    },
    {
      "cell_type": "markdown",
      "metadata": {
        "id": "d1FV-IzFDwpq"
      },
      "source": [
        "**Wu-Palmer Similarity:**\n",
        "Return a score denoting how similar two word senses are,\n",
        "based on the depth of the two senses in the taxonomy\n",
        "and that of their Least Common Subsumer (most specific ancestor node).\n"
      ]
    },
    {
      "cell_type": "code",
      "execution_count": null,
      "metadata": {
        "colab": {
          "background_save": true
        },
        "id": "5rhDX-brBzoK",
        "outputId": "7af783e4-6f48-42bd-e2aa-1a218f8d2686"
      },
      "outputs": [
        {
          "name": "stdout",
          "output_type": "stream",
          "text": [
            "0.8571428571428571\n"
          ]
        }
      ],
      "source": [
        "\n",
        "print(wn.wup_similarity(cat, dog))\n",
        "# 0.8571428571428571\n"
      ]
    },
    {
      "cell_type": "markdown",
      "metadata": {
        "id": "ogdc2QreEaa9"
      },
      "source": [
        "\n",
        "\n",
        "---\n",
        "## Information Content-based Semantic Relation Measures\n",
        "\n",
        "\n",
        "\n"
      ]
    },
    {
      "cell_type": "code",
      "execution_count": null,
      "metadata": {
        "id": "j6UeNROyExPM"
      },
      "outputs": [],
      "source": [
        "from nltk.corpus import wordnet_ic\n",
        "nltk.download('wordnet_ic')"
      ]
    },
    {
      "cell_type": "code",
      "execution_count": null,
      "metadata": {
        "id": "0Rum7QejE791"
      },
      "outputs": [],
      "source": [
        "# Wordnet information content file\n",
        "brown_ic = wordnet_ic.ic('ic-brown.dat')"
      ]
    },
    {
      "cell_type": "markdown",
      "metadata": {
        "id": "w9-Nl609D5Oo"
      },
      "source": [
        "**Lin Similarity:**\n",
        "Return a score denoting how similar two word senses are,\n",
        "based on the Information Content (IC) of the Least Common Subsumer\n",
        "and that of the two input Synsets.\n",
        "The relationship is given by the equation 2 * IC(lcs) / (IC(s1) + IC(s2)).\n"
      ]
    },
    {
      "cell_type": "code",
      "execution_count": null,
      "metadata": {
        "colab": {
          "base_uri": "https://localhost:8080/"
        },
        "id": "PL1_yFPZB18d",
        "outputId": "fcf6a2ac-69df-4223-be00-f1d98d11bb1d"
      },
      "outputs": [
        {
          "name": "stdout",
          "output_type": "stream",
          "text": [
            "0.8768009843733973\n"
          ]
        }
      ],
      "source": [
        "print(wn.lin_similarity(cat, dog, ic=brown_ic))\n",
        "# 0.8768009843733973"
      ]
    },
    {
      "cell_type": "markdown",
      "metadata": {
        "id": "VSnSfC0JEBMi"
      },
      "source": [
        "**Resnik Similarity:**\n",
        "Return a score denoting how similar two word senses are,\n",
        "based on the Information Content (IC) of the Least Common Subsumer\n",
        "Note that for any similarity measure that uses information content,\n",
        "the result is dependent on the corpus used to generate the information content\n",
        "and the specifics of how the information content was created."
      ]
    },
    {
      "cell_type": "code",
      "execution_count": null,
      "metadata": {
        "colab": {
          "base_uri": "https://localhost:8080/"
        },
        "id": "vf2K7WTeB6ID",
        "outputId": "9ef20b5f-c215-4b3f-a108-6df3fbcab514"
      },
      "outputs": [
        {
          "name": "stdout",
          "output_type": "stream",
          "text": [
            "7.911666509036577\n"
          ]
        }
      ],
      "source": [
        "print(wn.res_similarity(cat, dog, ic=brown_ic))\n",
        "# 7.911666509036577\n"
      ]
    },
    {
      "cell_type": "markdown",
      "metadata": {
        "id": "j32yEDv1EGom"
      },
      "source": [
        "**Jiang-Conrath Similarity**\n",
        "Return a score denoting how similar two word senses are,\n",
        "based on the Information Content (IC) of the Least Common Subsumer\n",
        "and that of the two input Synsets.\n",
        "The relationship is given by the equation 1 / (IC(s1) + IC(s2) - 2 * IC(lcs))."
      ]
    },
    {
      "cell_type": "code",
      "execution_count": null,
      "metadata": {
        "colab": {
          "base_uri": "https://localhost:8080/"
        },
        "id": "JjVFqhghB82x",
        "outputId": "8574e12c-ac7c-44ef-929f-d083dd70b55c"
      },
      "outputs": [
        {
          "name": "stdout",
          "output_type": "stream",
          "text": [
            "0.4497755285516739\n"
          ]
        }
      ],
      "source": [
        "print(wn.jcn_similarity(cat, dog, ic=brown_ic))"
      ]
    },
    {
      "cell_type": "markdown",
      "metadata": {
        "id": "2kkOYdwvF0Dk"
      },
      "source": [
        "\n",
        "\n",
        "---\n",
        "\n",
        "# Section 3. Definition-based measures of semantic relatedness\n",
        "\n",
        "\n",
        "\n",
        "\n"
      ]
    },
    {
      "cell_type": "code",
      "execution_count": null,
      "metadata": {
        "id": "w2XtInp4B_u6"
      },
      "outputs": [],
      "source": [
        "tree = wn.synsets('tree')[0]"
      ]
    },
    {
      "cell_type": "code",
      "execution_count": null,
      "metadata": {
        "colab": {
          "base_uri": "https://localhost:8080/",
          "height": 75
        },
        "id": "5j8oYWqRGNNj",
        "outputId": "bcebf5f5-b647-4ef5-f3e2-30f52a7f5e60"
      },
      "outputs": [
        {
          "data": {
            "application/vnd.google.colaboratory.intrinsic+json": {
              "type": "string"
            },
            "text/plain": [
              "'a tall perennial woody plant having a main trunk and branches forming a distinct elevated crown; includes both gymnosperms and angiosperms'"
            ]
          },
          "execution_count": 36,
          "metadata": {},
          "output_type": "execute_result"
        }
      ],
      "source": [
        "tree.definition()\n",
        "# a tall perennial woody plant having a main trunk and branches forming a distinct elevated crown; includes both gymnosperms and angiosperms"
      ]
    },
    {
      "cell_type": "code",
      "execution_count": null,
      "metadata": {
        "id": "jvVTRdS5GOvB"
      },
      "outputs": [],
      "source": [
        "trunk = wn.synsets('trunk')[0]"
      ]
    },
    {
      "cell_type": "code",
      "execution_count": null,
      "metadata": {
        "colab": {
          "base_uri": "https://localhost:8080/",
          "height": 75
        },
        "id": "rzqQJjYeGag1",
        "outputId": "c205de89-851c-4faa-98eb-ae9a23c64eec"
      },
      "outputs": [
        {
          "data": {
            "application/vnd.google.colaboratory.intrinsic+json": {
              "type": "string"
            },
            "text/plain": [
              "'the main stem of a tree; usually covered with bark; the bole is usually the part that is commercially useful for lumber'"
            ]
          },
          "execution_count": 35,
          "metadata": {},
          "output_type": "execute_result"
        }
      ],
      "source": [
        "trunk.definition()\n",
        "# 'the main stem of a tree; usually covered with bark; the bole is usually the part that is commercially useful for lumber' "
      ]
    },
    {
      "cell_type": "markdown",
      "metadata": {
        "id": "Q86lX4aqIHIL"
      },
      "source": [
        "**Lesk measure** is used to measure the relatedness of two words(senses) by counting the number of words they have in common (overlaps), in their definitions (glosses). The Lesk measure is the number of such common words.\n",
        "Lesk algorithm is used in word disambiguation; it associates a sense to a given word based on how related it is to the context (the rest of the words in the text).\n"
      ]
    },
    {
      "cell_type": "code",
      "execution_count": null,
      "metadata": {
        "id": "AdNytX5nGcBC"
      },
      "outputs": [],
      "source": [
        "from nltk.wsd import lesk"
      ]
    },
    {
      "cell_type": "code",
      "execution_count": null,
      "metadata": {
        "id": "BloG6pkHIMVZ"
      },
      "outputs": [],
      "source": [
        "def getSenses(word):\n",
        "  return wn.synsets(word.lower())"
      ]
    },
    {
      "cell_type": "code",
      "execution_count": null,
      "metadata": {
        "id": "mfFfMsawIsdX"
      },
      "outputs": [],
      "source": [
        "def getGloss(senses):\n",
        "\n",
        "    gloss = {}\n",
        "\n",
        "    for sense in senses:\n",
        "        gloss[sense.name()] = []\n",
        "\n",
        "    for sense in senses:\n",
        "        gloss[sense.name()] += sense.definition().split()\n",
        "\n",
        "    return gloss"
      ]
    },
    {
      "cell_type": "code",
      "execution_count": null,
      "metadata": {
        "id": "YaqJbYu7WnNa"
      },
      "outputs": [],
      "source": [
        "def getAll(word):\n",
        "    senses = getSenses(word)\n",
        "\n",
        "    if senses == []:\n",
        "        return {word.lower(): senses}\n",
        "\n",
        "    return getGloss(senses)"
      ]
    },
    {
      "cell_type": "code",
      "execution_count": null,
      "metadata": {
        "id": "DPQ-7W-bWbyO"
      },
      "outputs": [],
      "source": [
        "def getScore(set1, set2):\n",
        "    # Base\n",
        "    overlap = 0\n",
        "\n",
        "    # Step\n",
        "    for word in set1:\n",
        "        if word in set2:\n",
        "            overlap += 1\n",
        "\n",
        "    return overlap / (len(set1) + len(set2))"
      ]
    },
    {
      "cell_type": "code",
      "execution_count": null,
      "metadata": {
        "id": "844PujfYMocp"
      },
      "outputs": [],
      "source": [
        "def overlapScore(word1, word2):\n",
        "\n",
        "    gloss_set1 = getAll(word1)\n",
        "    gloss_set2 = getAll(word2)\n",
        "    \n",
        "    score = {}\n",
        "    for i in gloss_set1.keys():\n",
        "        score[i] = 0\n",
        "        for j in gloss_set2.keys():\n",
        "            score[i] += getScore(gloss_set1[i], gloss_set2[j])\n",
        "\n",
        "    bestSense = None\n",
        "    max_score = 0\n",
        "    for i in gloss_set1.keys():\n",
        "        if score[i] > max_score:\n",
        "            max_score = score[i]\n",
        "            bestSense = i\n",
        "\n",
        "    return bestSense, max_score"
      ]
    },
    {
      "cell_type": "code",
      "execution_count": null,
      "metadata": {
        "colab": {
          "base_uri": "https://localhost:8080/"
        },
        "id": "z1lTNAJnWrKI",
        "outputId": "f854cc23-07d6-4e3a-bad1-46b1245da328"
      },
      "outputs": [
        {
          "data": {
            "text/plain": [
              "('guy.n.01', 0.8618881118881119)"
            ]
          },
          "execution_count": 69,
          "metadata": {},
          "output_type": "execute_result"
        }
      ],
      "source": [
        "overlapScore(\"cat\", \"dog\")"
      ]
    },
    {
      "cell_type": "markdown",
      "metadata": {
        "id": "4DAppm5KXyrg"
      },
      "source": [
        "\n",
        "\n",
        "---\n",
        "\n",
        "# Section 3. Distributional Approach\n",
        "\n",
        "\n"
      ]
    },
    {
      "cell_type": "markdown",
      "metadata": {
        "id": "tAHgkWJ4m9Bn"
      },
      "source": [
        "## Word-Context Matrix\n"
      ]
    },
    {
      "cell_type": "code",
      "execution_count": null,
      "metadata": {
        "id": "xvXW8q4QW2uL"
      },
      "outputs": [],
      "source": [
        "from sklearn.feature_extraction.text import CountVectorizer\n",
        "import numpy as np"
      ]
    },
    {
      "cell_type": "code",
      "execution_count": null,
      "metadata": {
        "id": "gURXPhF6nBtA"
      },
      "outputs": [],
      "source": [
        "samples = ['I like DL',\n",
        "           'I like NLP',\n",
        "           'I love ML', \n",
        "           'I love NLP']"
      ]
    },
    {
      "cell_type": "markdown",
      "metadata": {
        "id": "2kaLZ1Ssn4Li"
      },
      "source": [
        "CountVectorizer converts a collection of text documents to a matrix of token counts.\n",
        "More info [here](https://scikit-learn.org/stable/modules/generated/sklearn.feature_extraction.text.CountVectorizer.html)"
      ]
    },
    {
      "cell_type": "code",
      "execution_count": null,
      "metadata": {
        "id": "0lNih07onLtG"
      },
      "outputs": [],
      "source": [
        "vectorizer = CountVectorizer() \n",
        "co_occurrences = vectorizer.fit_transform(samples).toarray()"
      ]
    },
    {
      "cell_type": "markdown",
      "metadata": {
        "id": "GCRuhleEoSvB"
      },
      "source": [
        "Let's see what words it has extracted from the corpus."
      ]
    },
    {
      "cell_type": "code",
      "execution_count": null,
      "metadata": {
        "colab": {
          "base_uri": "https://localhost:8080/"
        },
        "id": "kEerNfrqnW7h",
        "outputId": "57dc19d6-df64-4ed1-cce1-3eb8b5b934ee"
      },
      "outputs": [
        {
          "name": "stdout",
          "output_type": "stream",
          "text": [
            "['dl' 'like' 'love' 'ml' 'nlp']\n"
          ]
        }
      ],
      "source": [
        "vocabulary = vectorizer.get_feature_names_out()\n",
        "print(vocabulary)"
      ]
    },
    {
      "cell_type": "markdown",
      "metadata": {
        "id": "ilq-kLX9ooKw"
      },
      "source": [
        "How many words are extracted?"
      ]
    },
    {
      "cell_type": "code",
      "execution_count": null,
      "metadata": {
        "id": "1JpkGHMQorVL"
      },
      "outputs": [],
      "source": [
        "# write your code here\n"
      ]
    },
    {
      "cell_type": "markdown",
      "metadata": {
        "id": "SzqmJv0kpBey"
      },
      "source": [
        "Let's print the co-occurrence matrix"
      ]
    },
    {
      "cell_type": "code",
      "execution_count": null,
      "metadata": {
        "colab": {
          "base_uri": "https://localhost:8080/"
        },
        "id": "Ha5vzA9sncMK",
        "outputId": "182c80f9-6f6c-4b2e-de4a-f644a3493ee8"
      },
      "outputs": [
        {
          "name": "stdout",
          "output_type": "stream",
          "text": [
            "            dl like love ml nlp \n",
            "i like dl   1   1   0   0   0   \n",
            "i like nlp  0   1   0   0   1   \n",
            "i love ml   0   0   1   1   0   \n",
            "i love nlp  0   0   1   0   1   \n",
            "\n"
          ]
        }
      ],
      "source": [
        "output = \" \"*12\n",
        "for word in vocabulary:\n",
        "  output+= f\"{word} \"\n",
        "output += \"\\n\"\n",
        "for context_id, context in enumerate(samples):\n",
        "    output += f\"{context.lower()}\"+ \" \"*(12-len(context))\n",
        "    for item in co_occurrences[context_id]:\n",
        "      output += f\"{item} \"+ \" \"*(3-len(str(item)))\n",
        "    output += \"\\n\"\n",
        "print(output)"
      ]
    },
    {
      "cell_type": "markdown",
      "metadata": {
        "id": "w4BBJqsdsCBe"
      },
      "source": [
        "## Dense vectors"
      ]
    },
    {
      "cell_type": "code",
      "execution_count": 1,
      "metadata": {
        "id": "lMt6Zkw1ocNl"
      },
      "outputs": [],
      "source": [
        "from gensim.models import KeyedVectors"
      ]
    },
    {
      "cell_type": "code",
      "execution_count": 2,
      "metadata": {
        "id": "0UGkhRg1tZ2S"
      },
      "outputs": [],
      "source": [
        "import gensim.downloader as api"
      ]
    },
    {
      "cell_type": "markdown",
      "metadata": {
        "id": "XevSElIuv5_W"
      },
      "source": [
        "Let's download a pretrained dense vectors by Google"
      ]
    },
    {
      "cell_type": "code",
      "execution_count": 3,
      "metadata": {
        "colab": {
          "base_uri": "https://localhost:8080/"
        },
        "id": "oJaERAR9t6Fn",
        "outputId": "7eb0a272-9e0b-4f6c-e621-fa83ba9e1e6b"
      },
      "outputs": [
        {
          "output_type": "stream",
          "name": "stdout",
          "text": [
            "[==================================================] 100.0% 1662.8/1662.8MB downloaded\n"
          ]
        }
      ],
      "source": [
        "word_vectors= api.load(\"word2vec-google-news-300\")"
      ]
    },
    {
      "cell_type": "code",
      "source": [
        "vector_car = word_vectors['car'] \n",
        "print(vector_car)"
      ],
      "metadata": {
        "colab": {
          "base_uri": "https://localhost:8080/"
        },
        "id": "VDCbJxl4Lx5N",
        "outputId": "c713fcd8-798e-4fca-aa71-ddab3527c198"
      },
      "execution_count": 8,
      "outputs": [
        {
          "output_type": "stream",
          "name": "stdout",
          "text": [
            "[ 0.13085938  0.00842285  0.03344727 -0.05883789  0.04003906 -0.14257812\n",
            "  0.04931641 -0.16894531  0.20898438  0.11962891  0.18066406 -0.25\n",
            " -0.10400391 -0.10742188 -0.01879883  0.05200195 -0.00216675  0.06445312\n",
            "  0.14453125 -0.04541016  0.16113281 -0.01611328 -0.03088379  0.08447266\n",
            "  0.16210938  0.04467773 -0.15527344  0.25390625  0.33984375  0.00756836\n",
            " -0.25585938 -0.01733398 -0.03295898  0.16308594 -0.12597656 -0.09912109\n",
            "  0.16503906  0.06884766 -0.18945312  0.02832031 -0.0534668  -0.03063965\n",
            "  0.11083984  0.24121094 -0.234375    0.12353516 -0.00294495  0.1484375\n",
            "  0.33203125  0.05249023 -0.20019531  0.37695312  0.12255859  0.11425781\n",
            " -0.17675781  0.10009766  0.0030365   0.26757812  0.20117188  0.03710938\n",
            "  0.11083984 -0.09814453 -0.3125      0.03515625  0.02832031  0.26171875\n",
            " -0.08642578 -0.02258301 -0.05834961 -0.00787354  0.11767578 -0.04296875\n",
            " -0.17285156  0.04394531 -0.23046875  0.1640625  -0.11474609 -0.06030273\n",
            "  0.01196289 -0.24707031  0.32617188 -0.04492188 -0.11425781  0.22851562\n",
            " -0.01647949 -0.15039062 -0.13183594  0.12597656 -0.17480469  0.02209473\n",
            " -0.1015625   0.00817871  0.10791016 -0.24609375 -0.109375   -0.09375\n",
            " -0.01623535 -0.20214844  0.23144531 -0.05444336 -0.05541992 -0.20898438\n",
            "  0.26757812  0.27929688  0.17089844 -0.17578125 -0.02770996 -0.20410156\n",
            "  0.02392578  0.03125    -0.25390625 -0.125      -0.05493164 -0.17382812\n",
            "  0.28515625 -0.23242188  0.0234375  -0.20117188 -0.13476562  0.26367188\n",
            "  0.00769043  0.20507812 -0.01708984 -0.12988281  0.04711914  0.22070312\n",
            "  0.02099609 -0.29101562 -0.02893066  0.17285156  0.04272461 -0.19824219\n",
            " -0.04003906 -0.16992188  0.10058594 -0.09326172  0.15820312 -0.16503906\n",
            " -0.06054688  0.19433594 -0.07080078 -0.06884766 -0.09619141 -0.07226562\n",
            "  0.04882812  0.07324219  0.11035156  0.04858398 -0.17675781 -0.33789062\n",
            "  0.22558594  0.16308594  0.05102539 -0.08251953  0.07958984  0.08740234\n",
            " -0.16894531 -0.02160645 -0.19238281  0.03857422 -0.05102539  0.21972656\n",
            "  0.08007812 -0.21191406 -0.07519531 -0.15039062  0.3046875  -0.17089844\n",
            "  0.12353516 -0.234375   -0.10742188 -0.06787109  0.01904297 -0.14160156\n",
            " -0.22753906 -0.16308594  0.14453125 -0.15136719 -0.296875    0.22363281\n",
            " -0.10205078 -0.0456543  -0.21679688 -0.09033203  0.09375    -0.15332031\n",
            " -0.01550293  0.3046875  -0.23730469  0.08935547  0.03710938  0.02941895\n",
            " -0.28515625  0.15820312 -0.00306702  0.06054688  0.00497437 -0.15234375\n",
            " -0.00836182  0.02197266 -0.12109375 -0.13867188 -0.2734375  -0.06835938\n",
            "  0.08251953 -0.26367188 -0.16992188  0.14746094  0.08496094  0.02075195\n",
            "  0.13671875 -0.04931641 -0.0100708  -0.00369263 -0.10839844  0.14746094\n",
            " -0.15527344  0.16113281  0.05615234 -0.05004883 -0.1640625  -0.26953125\n",
            "  0.4140625   0.06079102 -0.046875   -0.02514648  0.10595703  0.1328125\n",
            " -0.16699219 -0.04907227  0.04663086  0.05151367 -0.07958984 -0.16503906\n",
            " -0.29882812  0.06054688 -0.15332031 -0.00598145  0.06640625 -0.04516602\n",
            "  0.24316406 -0.07080078 -0.36914062 -0.23144531 -0.11914062 -0.08300781\n",
            "  0.14746094 -0.05761719  0.23535156 -0.12304688  0.14648438  0.13671875\n",
            "  0.15429688  0.02111816 -0.09570312  0.05859375  0.03979492 -0.08105469\n",
            "  0.0559082  -0.16601562  0.27148438 -0.20117188 -0.00915527  0.07324219\n",
            "  0.10449219  0.34570312 -0.26367188  0.02099609 -0.40039062 -0.03417969\n",
            " -0.15917969 -0.08789062  0.08203125  0.23339844  0.0213623  -0.11328125\n",
            "  0.05249023 -0.10449219 -0.02380371 -0.08349609 -0.04003906  0.01916504\n",
            " -0.01226807 -0.18261719 -0.06787109 -0.08496094 -0.03039551 -0.05395508\n",
            "  0.04248047  0.12792969 -0.27539062  0.28515625 -0.04736328  0.06494141\n",
            " -0.11230469 -0.02575684 -0.04125977  0.22851562 -0.14941406 -0.15039062]\n"
          ]
        }
      ]
    },
    {
      "cell_type": "markdown",
      "source": [
        "## Euclidian distance"
      ],
      "metadata": {
        "id": "_iJ_wPFJQKE5"
      }
    },
    {
      "cell_type": "code",
      "source": [
        "vector_cat =  word_vectors['cat']\n",
        "\n",
        "vector_dog = word_vectors['dog']"
      ],
      "metadata": {
        "id": "E9J6AeR-QTsL"
      },
      "execution_count": 16,
      "outputs": []
    },
    {
      "cell_type": "markdown",
      "source": [
        "Use the following cell to implement this distance.\n",
        "\n"
      ],
      "metadata": {
        "id": "SeNQagAjRTqe"
      }
    },
    {
      "cell_type": "code",
      "source": [
        "def euclidian_distance(a,b):\n",
        "# write your code here\n",
        "  return 0"
      ],
      "metadata": {
        "id": "tBeD2GRxQkLY"
      },
      "execution_count": 18,
      "outputs": []
    },
    {
      "cell_type": "code",
      "source": [
        "euc_dist_cat_dog = euclidian_distance(vector_cat,vector_dog)\n",
        "print(euc_dist_cat_dog)"
      ],
      "metadata": {
        "colab": {
          "base_uri": "https://localhost:8080/"
        },
        "id": "MOccEgS3R0Ak",
        "outputId": "956c020a-10a7-48a8-c51b-078158af1e40"
      },
      "execution_count": 19,
      "outputs": [
        {
          "output_type": "stream",
          "name": "stdout",
          "text": [
            "0\n"
          ]
        }
      ]
    },
    {
      "cell_type": "markdown",
      "source": [
        "Let's check your implementation."
      ],
      "metadata": {
        "id": "K6Swub_ZR_UD"
      }
    },
    {
      "cell_type": "code",
      "source": [
        "from scipy.spatial import distance\n",
        "dst = distance.euclidean(vector_cat,vector_dog)\n",
        "print(dst)"
      ],
      "metadata": {
        "colab": {
          "base_uri": "https://localhost:8080/"
        },
        "id": "MMpyLsGvSCCB",
        "outputId": "8c0bd723-96ae-4bc8-ca9c-21fe3be02c55"
      },
      "execution_count": 20,
      "outputs": [
        {
          "output_type": "stream",
          "name": "stdout",
          "text": [
            "2.081533670425415\n"
          ]
        }
      ]
    },
    {
      "cell_type": "markdown",
      "source": [
        "## Cosine distance"
      ],
      "metadata": {
        "id": "F3d357wGSWdf"
      }
    },
    {
      "cell_type": "code",
      "source": [
        "cosine_dist = distance.cosine(vector_cat, vector_dog)"
      ],
      "metadata": {
        "id": "__M6epbYS29u"
      },
      "execution_count": 27,
      "outputs": []
    },
    {
      "cell_type": "markdown",
      "source": [
        "The above number is the cosine distance. Let's convert it to cosine similarity"
      ],
      "metadata": {
        "id": "NGZvrL0ITL5r"
      }
    },
    {
      "cell_type": "code",
      "source": [
        "cosine_sim = 1 - cosine_dist\n",
        "print(cosine_sim)"
      ],
      "metadata": {
        "colab": {
          "base_uri": "https://localhost:8080/"
        },
        "id": "Pp_Qxbr3THfS",
        "outputId": "aea6a1f4-1169-4342-b02a-c5bb6737e3b1"
      },
      "execution_count": 29,
      "outputs": [
        {
          "output_type": "stream",
          "name": "stdout",
          "text": [
            "0.760945737361908\n"
          ]
        }
      ]
    },
    {
      "cell_type": "code",
      "source": [
        "word_vectors.similarity('cat','dog')"
      ],
      "metadata": {
        "colab": {
          "base_uri": "https://localhost:8080/"
        },
        "id": "NoYyVVt6SmmJ",
        "outputId": "5b3e3be3-5134-48fe-c9bf-80284ee7b7de"
      },
      "execution_count": 30,
      "outputs": [
        {
          "output_type": "execute_result",
          "data": {
            "text/plain": [
              "0.76094574"
            ]
          },
          "metadata": {},
          "execution_count": 30
        }
      ]
    },
    {
      "cell_type": "code",
      "execution_count": 31,
      "metadata": {
        "colab": {
          "base_uri": "https://localhost:8080/"
        },
        "id": "UUwDutOMs9LE",
        "outputId": "dae28efb-4343-4643-8315-ef9eb4748bbc"
      },
      "outputs": [
        {
          "output_type": "execute_result",
          "data": {
            "text/plain": [
              "[('vehicle', 0.7821096181869507),\n",
              " ('cars', 0.7423830032348633),\n",
              " ('SUV', 0.7160962820053101),\n",
              " ('minivan', 0.6907036304473877),\n",
              " ('truck', 0.6735789775848389),\n",
              " ('Car', 0.6677608489990234),\n",
              " ('Ford_Focus', 0.667320191860199),\n",
              " ('Honda_Civic', 0.662684977054596),\n",
              " ('Jeep', 0.6511331796646118),\n",
              " ('pickup_truck', 0.64414381980896)]"
            ]
          },
          "metadata": {},
          "execution_count": 31
        }
      ],
      "source": [
        "word_vectors.most_similar('car')"
      ]
    },
    {
      "cell_type": "markdown",
      "source": [
        "\n",
        "\n",
        "---\n",
        "\n",
        "# Section 4. Correlations "
      ],
      "metadata": {
        "id": "5yPkymgUNKPh"
      }
    },
    {
      "cell_type": "code",
      "source": [
        "x = [1,2,3]\n",
        "y = [2,5,6]"
      ],
      "metadata": {
        "id": "PGiGXcDGNJZJ"
      },
      "execution_count": 5,
      "outputs": []
    },
    {
      "cell_type": "markdown",
      "source": [
        "Write a function that computes the pearson correlation coefficient."
      ],
      "metadata": {
        "id": "fOSbzU-6NV5h"
      }
    },
    {
      "cell_type": "code",
      "execution_count": 11,
      "metadata": {
        "id": "mqRNV5Bwsuuh"
      },
      "outputs": [],
      "source": [
        "# Write your code here\n",
        "def pearson(a,b):\n",
        "  \n",
        "  return 0"
      ]
    },
    {
      "cell_type": "markdown",
      "source": [
        "\n",
        "run your function on x and y\n",
        "\n"
      ],
      "metadata": {
        "id": "YNrEbqctNqh4"
      }
    },
    {
      "cell_type": "code",
      "execution_count": 12,
      "metadata": {
        "id": "R-ILj9WSs3E_",
        "colab": {
          "base_uri": "https://localhost:8080/"
        },
        "outputId": "3753d802-c5e6-42c8-e710-0a2410e095ba"
      },
      "outputs": [
        {
          "output_type": "stream",
          "name": "stdout",
          "text": [
            "0\n"
          ]
        }
      ],
      "source": [
        "r = pearson(x,y)\n",
        "print(r)"
      ]
    },
    {
      "cell_type": "markdown",
      "source": [
        "Let's check the correctness of your function"
      ],
      "metadata": {
        "id": "zygSMamHN111"
      }
    },
    {
      "cell_type": "code",
      "source": [
        "import scipy.stats"
      ],
      "metadata": {
        "id": "-srqI0rGNy3I"
      },
      "execution_count": 13,
      "outputs": []
    },
    {
      "cell_type": "code",
      "source": [
        "scipy.stats.pearsonr(x, y)    # Pearson's r"
      ],
      "metadata": {
        "colab": {
          "base_uri": "https://localhost:8080/"
        },
        "id": "4MnbklJvOSB8",
        "outputId": "51fef979-6472-40a6-9077-6f5739954b19"
      },
      "execution_count": 14,
      "outputs": [
        {
          "output_type": "execute_result",
          "data": {
            "text/plain": [
              "(0.9607689228305227, 0.17891237502206703)"
            ]
          },
          "metadata": {},
          "execution_count": 14
        }
      ]
    },
    {
      "cell_type": "markdown",
      "source": [
        "We can also compute the spearman correlation"
      ],
      "metadata": {
        "id": "bdqdZn8qOXdT"
      }
    },
    {
      "cell_type": "code",
      "source": [
        "scipy.stats.spearmanr(x, y)"
      ],
      "metadata": {
        "colab": {
          "base_uri": "https://localhost:8080/"
        },
        "id": "B9ug0HNPOWqu",
        "outputId": "c66cb898-af16-4d12-a7cf-6b16bc76bbae"
      },
      "execution_count": 15,
      "outputs": [
        {
          "output_type": "execute_result",
          "data": {
            "text/plain": [
              "SpearmanrResult(correlation=1.0, pvalue=0.0)"
            ]
          },
          "metadata": {},
          "execution_count": 15
        }
      ]
    },
    {
      "cell_type": "markdown",
      "source": [
        "Well done! You completed these exercise."
      ],
      "metadata": {
        "id": "G176_Qm2TgSc"
      }
    },
    {
      "cell_type": "code",
      "source": [
        ""
      ],
      "metadata": {
        "id": "hW_CVEhWTjlk"
      },
      "execution_count": null,
      "outputs": []
    }
  ],
  "metadata": {
    "colab": {
      "collapsed_sections": [
        "dg_k_yXZ01Mc",
        "ogdc2QreEaa9",
        "2kkOYdwvF0Dk",
        "4DAppm5KXyrg",
        "tAHgkWJ4m9Bn",
        "w4BBJqsdsCBe",
        "5yPkymgUNKPh"
      ],
      "name": "semantic_relatedness.ipynb",
      "provenance": [],
      "authorship_tag": "ABX9TyOACKTBHHFdjnUf4ae4QFnm",
      "include_colab_link": true
    },
    "kernelspec": {
      "display_name": "Python 3",
      "name": "python3"
    },
    "language_info": {
      "name": "python"
    },
    "accelerator": "GPU"
  },
  "nbformat": 4,
  "nbformat_minor": 0
}